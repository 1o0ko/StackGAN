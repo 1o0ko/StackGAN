{
 "cells": [
  {
   "cell_type": "code",
   "execution_count": 1,
   "metadata": {
    "collapsed": false
   },
   "outputs": [],
   "source": [
    "%matplotlib inline"
   ]
  },
  {
   "cell_type": "code",
   "execution_count": 14,
   "metadata": {
    "collapsed": true
   },
   "outputs": [],
   "source": [
    "import numpy as np\n",
    "import matplotlib.pyplot as plt\n",
    "import matplotlib.image as mpimg\n",
    "\n",
    "from collections import namedtuple\n",
    "from fuel.datasets.hdf5 import H5PYDataset\n",
    "\n",
    "\n",
    "BATH_SIZE = 100\n",
    "IMG_SIZE = 256\n",
    "\n",
    "# Img resizing stuff\n",
    "LR_HR_RATIO = 4\n",
    "BIG_SIZE = int(IMG_SIZE * 76 / 64)\n",
    "SMALL_SIZE = int(BIG_SIZE / LR_HR_RATIO)\n",
    "\n",
    "DATA_TEMPLATE =             '/fashion/ssense_%i_%i.h5'\n",
    "LANGUAGE_MODEL_FILE =       '/data/glove/glove.6B.300d.txt'\n",
    "LANGUAGE_MODEL_VOCABULARY = '/data/glove/glove.6B.vocab'\n",
    "\n",
    "FASTTEXT_DATA =             '/data/fashion/txt/fashion.dedup.txt'\n",
    "FASTTEXT_DATA_TRAIN =       '/data/fashion/txt/fashion-train.txt'\n",
    "FASTTEXT_DATA_CLEAN =       '/data/fashion/txt/fashion-clean.txt'\n",
    "\n",
    "OUTPUT =                    '/data/classes_and_texts.txt'"
   ]
  },
  {
   "cell_type": "code",
   "execution_count": 3,
   "metadata": {
    "collapsed": true
   },
   "outputs": [],
   "source": [
    "data_set = H5PYDataset(DATA_TEMPLATE % (IMG_SIZE, IMG_SIZE), which_sets=('all',))"
   ]
  },
  {
   "cell_type": "code",
   "execution_count": 4,
   "metadata": {
    "collapsed": true
   },
   "outputs": [],
   "source": [
    "def list_keys(data_set): \n",
    "    return [k.split('_')[1] for k in sorted(data_set.axis_labels.keys())]"
   ]
  },
  {
   "cell_type": "code",
   "execution_count": 5,
   "metadata": {
    "collapsed": false
   },
   "outputs": [
    {
     "name": "stdout",
     "output_type": "stream",
     "text": [
      "0 brand\n",
      "1 category\n",
      "2 composition\n",
      "3 department\n",
      "4 description\n",
      "5 gender\n",
      "6 image\n",
      "7 msrpUSD\n",
      "8 name\n",
      "9 productID\n",
      "10 season\n",
      "11 subcategory\n"
     ]
    }
   ],
   "source": [
    "for i, key in enumerate(list_keys(data_set)):\n",
    "    print(\"%d %s\" % (i, key))"
   ]
  },
  {
   "cell_type": "code",
   "execution_count": 6,
   "metadata": {
    "collapsed": false
   },
   "outputs": [],
   "source": [
    "Item = namedtuple('Item', ' '.join(list_keys(data_set)))"
   ]
  },
  {
   "cell_type": "code",
   "execution_count": 7,
   "metadata": {
    "collapsed": true
   },
   "outputs": [],
   "source": [
    "import string\n",
    "from collections import Counter\n",
    "\n",
    "BLACK_LIST = string.punctuation.replace('%', '') + '\\n'\n",
    "\n",
    "def normalize(text_array, \n",
    "    black_list = BLACK_LIST, \n",
    "    vocab=None, lowercase =  True, tokenize = False):\n",
    "    text = text_array[0]\n",
    "    if black_list:\n",
    "        text = text.translate(None, BLACK_LIST)\n",
    "    if lowercase:\n",
    "        text = text.lower()\n",
    "    if vocab:\n",
    "        text = ' '.join([word for word in text.split() if word in vocab])\n",
    "    if tokenize:\n",
    "        return text.split()\n",
    "    return text\n",
    "\n",
    "def encode_fast_text(label, text):\n",
    "    clean_label = label.lower().replace(\" \", \"-\")\n",
    "    clean_text = ' '.join(text[0][0].split())\n",
    "    return \"__label__%s %s\\n\" % (clean_label, clean_text)"
   ]
  },
  {
   "cell_type": "code",
   "execution_count": 8,
   "metadata": {
    "collapsed": true
   },
   "outputs": [],
   "source": [
    "def dump_to_fastext_corpora(data_set, output, id2category,\n",
    "                            batch_size = BATH_SIZE, \n",
    "                            limit=None):\n",
    "    '''\n",
    "    Dumps the dataset to be consumed by fastText.\n",
    "    '''\n",
    "    N = data_set.num_examples\n",
    "    num_batch = N / batch_size\n",
    "    \n",
    "    handle = data_set.open()\n",
    "    with open(output, 'wr') as f:\n",
    "        processed = 0\n",
    "        for i in itertools.islice(xrange(num_batch), limit):\n",
    "            # fetch batch of data\n",
    "            text_batch, img_batch, metadata_batch  = data_set.get_data(\n",
    "                handle, slice(i*batch_size, min((i+1)*batch_size, N - processed)))\n",
    "            \n",
    "            # process batch\n",
    "            lines = [encode_fast_text(id2category[id_], text) for \n",
    "                     text, id_ in zip(text_batch, metadata_batch[:,0])]\n",
    "\n",
    "            # dumplines\n",
    "            f.writelines(lines)\n",
    "            \n",
    "            # track progress \n",
    "            processed += text_batch.shape[0]   \n",
    "            if i % 100 == 0:\n",
    "                percent = int(((100.0 * i )/ num_batch))\n",
    "                print(\"Processing %i batch out of %i [%i processed]\" % (i +1, num_batch +1, processed))"
   ]
  },
  {
   "cell_type": "code",
   "execution_count": 9,
   "metadata": {
    "collapsed": false
   },
   "outputs": [],
   "source": [
    "def dump_for_keras(\n",
    "    data_set, output, \n",
    "    batch_size = BATH_SIZE, limit=None, vocab=None):\n",
    "    '''\n",
    "    Dumps the hdf5 dataset to flat textfile\n",
    "    '''\n",
    "    N = data_set.num_examples\n",
    "    num_batch = N / batch_size + 1\n",
    "    \n",
    "    handle = data_set.open()\n",
    "    with open(output, 'wr') as f:\n",
    "        processed = 0\n",
    "        for i in itertools.islice(xrange(num_batch), limit):\n",
    "            # fetch batch of data\n",
    "            low, high = i*batch_size, min((i+1)*batch_size, data_set.num_examples)\n",
    "            rows = data_set.get_data(handle, slice(low, high))\n",
    "            \n",
    "            # process batch\n",
    "            classes = [row[0].replace(\" \", \"_\") for row in rows[1]]\n",
    "            texts = [normalize(text, vocab=vocab) for text in rows[4]]\n",
    "            lines = [\"%s %s\\n\" % (c, t) for c,t in zip(classes, texts)]\n",
    "            # dumplines\n",
    "            f.writelines(lines)\n",
    "             \n",
    "            if i % 100 == 0:\n",
    "                percent = int(((100.0 * i )/ num_batch))\n",
    "                print(\"Low: %d, high: %d\" % (low, high))\n",
    "                print(\"Processing %i batch out of %i [%i processed]\" % (i, num_batch, processed))\n",
    "            \n",
    "            # track progress \n",
    "            processed += len(texts)  "
   ]
  },
  {
   "cell_type": "code",
   "execution_count": 10,
   "metadata": {
    "collapsed": false
   },
   "outputs": [
    {
     "name": "stdout",
     "output_type": "stream",
     "text": [
      "Processing 0 batch out of 737 [0 percent]\n",
      "Number of tokens in the dictionary: 0\n",
      "Number of classes in the dictionary: 0\n",
      "Processing 100 batch out of 737 [13 percent]\n",
      "Number of tokens in the dictionary: 4400\n",
      "Number of classes in the dictionary: 20\n",
      "Processing 200 batch out of 737 [27 percent]\n",
      "Number of tokens in the dictionary: 5796\n",
      "Number of classes in the dictionary: 25\n",
      "Processing 300 batch out of 737 [40 percent]\n",
      "Number of tokens in the dictionary: 6763\n",
      "Number of classes in the dictionary: 44\n",
      "Processing 400 batch out of 737 [54 percent]\n",
      "Number of tokens in the dictionary: 7740\n",
      "Number of classes in the dictionary: 48\n",
      "Processing 500 batch out of 737 [67 percent]\n",
      "Number of tokens in the dictionary: 8502\n",
      "Number of classes in the dictionary: 49\n",
      "Processing 600 batch out of 737 [81 percent]\n",
      "Number of tokens in the dictionary: 9110\n",
      "Number of classes in the dictionary: 49\n",
      "Processing 700 batch out of 737 [94 percent]\n",
      "Number of tokens in the dictionary: 9657\n",
      "Number of classes in the dictionary: 49\n"
     ]
    }
   ],
   "source": [
    "import itertools\n",
    "import math\n",
    "\n",
    "tokens = Counter()\n",
    "classes = Counter()\n",
    "\n",
    "handle = data_set.open()\n",
    "num_batch = data_set.num_examples / BATH_SIZE\n",
    "for i in xrange(num_batch):\n",
    "    if i % 100 == 0:\n",
    "        percent = int(((100.0 * i )/ num_batch))\n",
    "        print(\"Processing %i batch out of %i [%i percent]\" % (i, num_batch, percent))\n",
    "        print(\"Number of tokens in the dictionary: %i\" % len(tokens))\n",
    "        print(\"Number of classes in the dictionary: %i\" % len(classes))\n",
    "    \n",
    "    rows = data_set.get_data(\n",
    "        handle, \n",
    "        slice(i*BATH_SIZE, min((i+1)*BATH_SIZE, data_set.num_examples))\n",
    "    )\n",
    "    \n",
    "    tokens.update(itertools.chain(*[\n",
    "        normalize(text, tokenize=True) for text in rows[4]\n",
    "    ]))\n",
    "    classes.update(itertools.chain([\n",
    "        row[0] for row in rows[1]\n",
    "    ]))"
   ]
  },
  {
   "cell_type": "code",
   "execution_count": 11,
   "metadata": {
    "collapsed": false
   },
   "outputs": [
    {
     "name": "stdout",
     "output_type": "stream",
     "text": [
      "There are 9882 distinct words in the dataset\n",
      "There are 49 distinct classes in the dataset\n"
     ]
    }
   ],
   "source": [
    "print(\"There are %s distinct words in the dataset\" % len(tokens))\n",
    "print(\"There are %s distinct classes in the dataset\" % len(classes))"
   ]
  },
  {
   "cell_type": "code",
   "execution_count": 12,
   "metadata": {
    "collapsed": false
   },
   "outputs": [
    {
     "data": {
      "text/plain": [
       "[('at', 139059),\n",
       " ('in', 114864),\n",
       " ('tonal', 80447),\n",
       " ('stitching', 69916),\n",
       " ('and', 63586),\n",
       " ('black', 49416),\n",
       " ('sleeve', 46752),\n",
       " ('collar', 42675),\n",
       " ('front', 35838),\n",
       " ('long', 28781)]"
      ]
     },
     "execution_count": 12,
     "metadata": {},
     "output_type": "execute_result"
    }
   ],
   "source": [
    "tokens.most_common(10)"
   ]
  },
  {
   "cell_type": "markdown",
   "metadata": {
    "collapsed": true
   },
   "source": [
    "# Are we missing something?"
   ]
  },
  {
   "cell_type": "code",
   "execution_count": 15,
   "metadata": {
    "collapsed": false
   },
   "outputs": [],
   "source": [
    "with open(LANGUAGE_MODEL_FILE, 'rt') as f:\n",
    "    vocab = set([line.split(\" \")[0] for line in f.readlines()])"
   ]
  },
  {
   "cell_type": "code",
   "execution_count": 37,
   "metadata": {
    "collapsed": false
   },
   "outputs": [
    {
     "name": "stdout",
     "output_type": "stream",
     "text": [
      "There are 3742 missing words out of 9882\n",
      "Most common mising words\n"
     ]
    },
    {
     "data": {
      "text/plain": [
       "[('tshirt', 9629),\n",
       " ('goldtone', 6639),\n",
       " ('pressstud', 6007),\n",
       " ('zipfly', 5692),\n",
       " ('slimfit', 4689),\n",
       " ('singlebutton', 4574),\n",
       " ('fivepocket', 4104),\n",
       " ('fourpocket', 3827),\n",
       " ('twoway', 3203),\n",
       " ('relaxedfit', 2588)]"
      ]
     },
     "execution_count": 37,
     "metadata": {},
     "output_type": "execute_result"
    }
   ],
   "source": [
    "missing_words = Counter({ word: tokens[word] for word in tokens if word.lower() not in vocab})\n",
    "print(\"There are %i missing words out of %i\" % (len(missing_words), len(tokens)))\n",
    "print(\"Most common mising words\")\n",
    "missing_words.most_common(10)"
   ]
  },
  {
   "cell_type": "markdown",
   "metadata": {},
   "source": [
    "# Sample data"
   ]
  },
  {
   "cell_type": "code",
   "execution_count": null,
   "metadata": {
    "collapsed": true
   },
   "outputs": [],
   "source": [
    "import scipy.misc\n",
    "import random\n",
    "\n",
    "def clean_plot(img):\n",
    "    plt.imshow(img); plt.xticks([]); plt.yticks([]); plt.show()\n",
    "    \n",
    "def clean_plot_dpi(img, size, dpi=60):\n",
    "    plt.figure().set_size_inches(float(size)/float(dpi),float(size)/float(dpi))\n",
    "    plt.xticks([]); plt.yticks([]);\n",
    "    plt.imshow(img);"
   ]
  },
  {
   "cell_type": "code",
   "execution_count": null,
   "metadata": {
    "collapsed": false
   },
   "outputs": [],
   "source": [
    "i = random.randint(0, data_set.num_examples)\n",
    "item = Item._make(data_set.get_data(handle, slice(i, min((i+1), data_set.num_examples))))"
   ]
  },
  {
   "cell_type": "code",
   "execution_count": null,
   "metadata": {
    "collapsed": false
   },
   "outputs": [],
   "source": [
    "plt.title(item.category[0][0])\n",
    "plt.imshow(item.image[0]);\n",
    "print(\"Raw text: \\n%s\\n\" % item.description[0][0])\n",
    "print(\"Normalized text: \\n%s\\n\" %  ' '.join(\n",
    "    normalize(item.description[0], tokenize=True)))\n",
    "print(\"Normalized text with vocab: \\n%s\\n\" %  ' '.join(\n",
    "    normalize(item.description[0], vocab=vocab, tokenize=True)))\n",
    "plt.show()"
   ]
  },
  {
   "cell_type": "markdown",
   "metadata": {},
   "source": [
    "## To be consistent with StackGAN"
   ]
  },
  {
   "cell_type": "code",
   "execution_count": null,
   "metadata": {
    "collapsed": false
   },
   "outputs": [],
   "source": [
    "img = item.image[0]\n",
    "img_76 = scipy.misc.imresize(img, [SMALL_SIZE, SMALL_SIZE], 'bicubic')\n",
    "img_304 = scipy.misc.imresize(img, [BIG_SIZE, BIG_SIZE], 'bicubic')"
   ]
  },
  {
   "cell_type": "code",
   "execution_count": null,
   "metadata": {
    "collapsed": false
   },
   "outputs": [],
   "source": [
    "clean_plot_dpi(img_76, SMALL_SIZE); clean_plot_dpi(img_304, BIG_SIZE);"
   ]
  },
  {
   "cell_type": "markdown",
   "metadata": {},
   "source": [
    "# Text preprocessing for fastText"
   ]
  },
  {
   "cell_type": "code",
   "execution_count": null,
   "metadata": {
    "collapsed": false
   },
   "outputs": [],
   "source": [
    "from random import sample\n",
    "\n",
    "def clean_line(text):\n",
    "    return text.translate(None, BLACK_LIST).lower()\n",
    "\n",
    "def process(line):\n",
    "    label, text = line.split(\" \", 1)\n",
    "    return \"%s %s\\n\" % (label, clean_line(line))\n",
    "\n",
    "def strip(line):\n",
    "    _, text = line.split(\" \", 1)\n",
    "    return \"%s\\n\" % clean_line(text)\n",
    "\n",
    "with open(FASTTEXT_DATA, 'rt') as f:\n",
    "    all_lines = f.readlines()\n",
    "    lines = list(set(all_lines))\n",
    "\n",
    "with open(FASTTEXT_DATA_TRAIN, 'wt') as f:\n",
    "    f.writelines(sample([process(line) for line in lines], len(lines)))\n",
    "    \n",
    "with open(FASTTEXT_DATA_CLEAN, 'wt') as f:\n",
    "    f.writelines([strip(line) for line in all_lines])"
   ]
  },
  {
   "cell_type": "code",
   "execution_count": null,
   "metadata": {
    "collapsed": true
   },
   "outputs": [],
   "source": [
    "from tensorflow.python.client import device_lib"
   ]
  },
  {
   "cell_type": "code",
   "execution_count": null,
   "metadata": {
    "collapsed": true
   },
   "outputs": [],
   "source": [
    "print(device_lib.list_local_devices())"
   ]
  },
  {
   "cell_type": "markdown",
   "metadata": {},
   "source": [
    "# Dump data for text embedding with CNNN"
   ]
  },
  {
   "cell_type": "code",
   "execution_count": null,
   "metadata": {
    "collapsed": false
   },
   "outputs": [],
   "source": [
    "dump_for_keras(data_set, OUTPUT, batch_size = BATH_SIZE, vocab=None)"
   ]
  },
  {
   "cell_type": "markdown",
   "metadata": {},
   "source": [
    "## Load data ;)"
   ]
  },
  {
   "cell_type": "code",
   "execution_count": 65,
   "metadata": {
    "collapsed": false,
    "scrolled": true
   },
   "outputs": [],
   "source": [
    "with open(OUTPUT, 'rt') as f:\n",
    "    classes, texts = zip(*[line.split(\" \", 1) for line in f.readlines()])"
   ]
  },
  {
   "cell_type": "code",
   "execution_count": 66,
   "metadata": {
    "collapsed": false
   },
   "outputs": [],
   "source": [
    "c = Counter([len(t.split(' ')) for t in texts])"
   ]
  },
  {
   "cell_type": "code",
   "execution_count": 67,
   "metadata": {
    "collapsed": false
   },
   "outputs": [
    {
     "data": {
      "image/png": "[encoded data removed]",
      "text/plain": [
       "<matplotlib.figure.Figure at 0x7fa7465ac7d0>"
      ]
     },
     "metadata": {},
     "output_type": "display_data"
    }
   ],
   "source": [
    "labels, values = zip(*c.items())\n",
    "\n",
    "indexes = np.arange(len(labels))\n",
    "width = 1\n",
    "\n",
    "plt.figure(figsize=(15, 5))\n",
    "plt.bar(indexes, values, width)\n",
    "plt.xticks(indexes + width * 0.5, labels, rotation=90)\n",
    "plt.show()"
   ]
  },
  {
   "cell_type": "markdown",
   "metadata": {},
   "source": [
    "## Classes"
   ]
  },
  {
   "cell_type": "code",
   "execution_count": 70,
   "metadata": {
    "collapsed": false
   },
   "outputs": [
    {
     "data": {
      "image/png": "[encoded data removed]",
      "text/plain": [
       "<matplotlib.figure.Figure at 0x7fa79fcb2110>"
      ]
     },
     "metadata": {},
     "output_type": "display_data"
    }
   ],
   "source": [
    "class_counts = Counter(classes)\n",
    "labels, values = zip(*class_counts.most_common())\n",
    "\n",
    "indexes = np.arange(len(labels))\n",
    "width = 1\n",
    "\n",
    "plt.figure(figsize=(15, 5))\n",
    "plt.bar(indexes, values, width)\n",
    "plt.xticks(indexes + width * 0.5, labels, rotation=90)\n",
    "plt.show()"
   ]
  },
  {
   "cell_type": "code",
   "execution_count": 146,
   "metadata": {
    "collapsed": true
   },
   "outputs": [],
   "source": [
    "import os\n",
    "import sys\n",
    "import logging"
   ]
  },
  {
   "cell_type": "code",
   "execution_count": 83,
   "metadata": {
    "collapsed": true
   },
   "outputs": [],
   "source": [
    "sys.path.append(os.path.abspath('../'))"
   ]
  },
  {
   "cell_type": "code",
   "execution_count": 144,
   "metadata": {
    "collapsed": true
   },
   "outputs": [],
   "source": [
    "from embedding.train_embedding_model import load_and_process, train_val_split"
   ]
  },
  {
   "cell_type": "code",
   "execution_count": 147,
   "metadata": {
    "collapsed": false
   },
   "outputs": [
    {
     "name": "stderr",
     "output_type": "stream",
     "text": [
      "2018-02-27 00:23:22,154 [INFO] Class statistics\n",
      "2018-02-27 00:23:22,155 [INFO] Found 49 classes\n",
      "2018-02-27 00:23:22,156 [INFO] \t TOPS: 14040\n",
      "2018-02-27 00:23:22,158 [INFO] \t SWEATERS: 13355\n",
      "2018-02-27 00:23:22,159 [INFO] \t JACKETS_&_COATS: 9991\n",
      "2018-02-27 00:23:22,162 [INFO] \t PANTS: 6914\n",
      "2018-02-27 00:23:22,164 [INFO] \t JEANS: 4029\n",
      "2018-02-27 00:23:22,165 [INFO] \t SHIRTS: 3357\n",
      "2018-02-27 00:23:22,166 [INFO] \t DRESSES: 2852\n",
      "2018-02-27 00:23:22,167 [INFO] \t SNEAKERS: 2237\n",
      "2018-02-27 00:23:22,168 [INFO] \t SHORTS: 2200\n",
      "2018-02-27 00:23:22,169 [INFO] \t SKIRTS: 2108\n",
      "2018-02-27 00:23:22,169 [INFO] \t HATS: 1790\n",
      "2018-02-27 00:23:22,170 [INFO] \t SHOULDER_BAGS: 1456\n",
      "2018-02-27 00:23:22,171 [INFO] \t JEWELRY: 1181\n",
      "2018-02-27 00:23:22,172 [INFO] \t BOOTS: 964\n",
      "2018-02-27 00:23:22,173 [INFO] \t SUITS_&_BLAZERS: 869\n",
      "2018-02-27 00:23:22,174 [INFO] \t FLATS: 780\n",
      "2018-02-27 00:23:22,175 [INFO] \t EYEWEAR: 739\n",
      "2018-02-27 00:23:22,176 [INFO] \t SANDALS: 658\n",
      "2018-02-27 00:23:22,177 [INFO] \t BACKPACKS: 610\n",
      "2018-02-27 00:23:22,178 [INFO] \t SCARVES: 507\n",
      "2018-02-27 00:23:22,179 [INFO] \t TOTE_BAGS: 448\n",
      "2018-02-27 00:23:22,180 [INFO] \t HEELS: 396\n",
      "2018-02-27 00:23:22,181 [INFO] \t LINGERIE: 337\n",
      "2018-02-27 00:23:22,182 [INFO] \t DUFFLE_&_TOP_HANDLE_BAGS: 303\n",
      "2018-02-27 00:23:22,183 [INFO] \t CLUTCHES_&_POUCHES: 298\n",
      "2018-02-27 00:23:22,184 [INFO] \t JUMPSUITS: 187\n",
      "2018-02-27 00:23:22,185 [INFO] \t LACE_UPS: 126\n",
      "2018-02-27 00:23:22,185 [INFO] \t FINE_JEWELRY: 121\n",
      "2018-02-27 00:23:22,186 [INFO] \t BELTS_&_SUSPENDERS: 119\n",
      "2018-02-27 00:23:22,187 [INFO] \t MESSENGER_BAGS_&_SATCHELS: 109\n",
      "2018-02-27 00:23:22,188 [INFO] \t LOAFERS: 102\n",
      "2018-02-27 00:23:22,189 [INFO] \t TIES: 95\n",
      "2018-02-27 00:23:22,190 [INFO] \t KEYCHAINS: 84\n",
      "2018-02-27 00:23:22,191 [INFO] \t SOCKS: 82\n",
      "2018-02-27 00:23:22,192 [INFO] \t BAG_ACCESSORIES: 66\n",
      "2018-02-27 00:23:22,193 [INFO] \t SWIMWEAR: 66\n",
      "2018-02-27 00:23:22,193 [INFO] \t POUCHES_&_DOCUMENT_HOLDERS: 40\n",
      "2018-02-27 00:23:22,194 [INFO] \t GLOVES: 28\n",
      "2018-02-27 00:23:22,195 [INFO] \t ESPADRILLES: 25\n",
      "2018-02-27 00:23:22,196 [INFO] \t DUFFLE_BAGS: 21\n",
      "2018-02-27 00:23:22,197 [INFO] \t MESSENGER_BAGS: 18\n",
      "2018-02-27 00:23:22,198 [INFO] \t BRIEFCASES: 16\n",
      "2018-02-27 00:23:22,199 [INFO] \t POCKET_SQUARES_&_TIE_BARS: 11\n",
      "2018-02-27 00:23:22,200 [INFO] \t UNDERWEAR_&_LOUNGEWEAR: 8\n",
      "2018-02-27 00:23:22,200 [INFO] \t TRAVEL_BAGS: 6\n",
      "2018-02-27 00:23:22,201 [INFO] \t BLANKETS: 5\n",
      "2018-02-27 00:23:22,202 [INFO] \t MONKSTRAPS: 4\n",
      "2018-02-27 00:23:22,203 [INFO] \t BOAT_SHOES_&_MOCCASINS: 2\n",
      "2018-02-27 00:23:22,204 [INFO] \t WALLETS_&_CARD_HOLDERS: 1\n"
     ]
    }
   ],
   "source": [
    "data, labels, tokenizer = load_and_process('/data/classes_and_texts.txt', 10000, 70, True)"
   ]
  },
  {
   "cell_type": "code",
   "execution_count": 148,
   "metadata": {
    "collapsed": false
   },
   "outputs": [],
   "source": [
    "x_train, y_train, x_val, y_val = train_val_split(data, labels, 0.1)"
   ]
  },
  {
   "cell_type": "code",
   "execution_count": 152,
   "metadata": {
    "collapsed": false
   },
   "outputs": [
    {
     "data": {
      "image/png": "[encoded data removed]",
      "text/plain": [
       "<matplotlib.figure.Figure at 0x7fa79fab0290>"
      ]
     },
     "metadata": {},
     "output_type": "display_data"
    }
   ],
   "source": [
    "train_c = Counter(np.argmax(y_train, axis=1)).most_common()\n",
    "val_c = Counter(np.argmax(y_val, axis=1)).most_common()\n",
    "\n",
    "labels_t, values_t = zip(*train_c)\n",
    "labels_v, values_v = zip(*val_c)\n",
    "\n",
    "width = 1\n",
    "\n",
    "plt.figure(figsize=(15, 5))\n",
    "plt.bar(np.arange(len(labels_t)), np.log(values_t), width, alpha=0.5)\n",
    "plt.bar(np.arange(len(labels_v)), np.log(values_v), width, color = 'red', alpha=0.5)\n",
    "plt.xticks(indexes + width * 0.5, labels_t, rotation=90)\n",
    "plt.show()"
   ]
  },
  {
   "cell_type": "code",
   "execution_count": 151,
   "metadata": {
    "collapsed": false
   },
   "outputs": [
    {
     "name": "stdout",
     "output_type": "stream",
     "text": [
      "0.1903, 0.1903\n",
      "0.1810, 0.1811\n",
      "0.1354, 0.1355\n",
      "0.0937, 0.0937\n",
      "0.0546, 0.0546\n",
      "0.0456, 0.0455\n",
      "0.0386, 0.0387\n",
      "0.0304, 0.0303\n",
      "0.0298, 0.0298\n",
      "0.0286, 0.0286\n",
      "0.0243, 0.0243\n",
      "0.0197, 0.0197\n",
      "0.0160, 0.0160\n",
      "0.0130, 0.0131\n",
      "0.0118, 0.0118\n",
      "0.0106, 0.0106\n",
      "0.0100, 0.0100\n",
      "0.0089, 0.0089\n",
      "0.0083, 0.0083\n",
      "0.0069, 0.0069\n",
      "0.0061, 0.0061\n",
      "0.0054, 0.0054\n",
      "0.0046, 0.0046\n",
      "0.0041, 0.0041\n",
      "0.0041, 0.0040\n",
      "0.0026, 0.0025\n",
      "0.0018, 0.0017\n",
      "0.0016, 0.0016\n",
      "0.0016, 0.0016\n",
      "0.0015, 0.0015\n",
      "0.0014, 0.0014\n",
      "0.0012, 0.0013\n",
      "0.0011, 0.0011\n",
      "0.0011, 0.0011\n",
      "0.0009, 0.0009\n",
      "0.0009, 0.0009\n",
      "0.0005, 0.0005\n",
      "0.0004, 0.0004\n",
      "0.0003, 0.0003\n",
      "0.0003, 0.0003\n",
      "0.0003, 0.0002\n",
      "0.0003, 0.0002\n",
      "0.0001, 0.0002\n",
      "0.0001, 0.0001\n",
      "0.0001, 0.0001\n"
     ]
    }
   ],
   "source": [
    "for a, b in zip(values_v, values_t):\n",
    "    print(\"%0.4f, %0.4f\" % (a/ (1.0 * sum(values_v)), b/(1.0*sum(values_t))))"
   ]
  }
 ],
 "metadata": {
  "kernelspec": {
   "display_name": "Python 2",
   "language": "python",
   "name": "python2"
  },
  "language_info": {
   "codemirror_mode": {
    "name": "ipython",
    "version": 2
   },
   "file_extension": ".py",
   "mimetype": "text/x-python",
   "name": "python",
   "nbconvert_exporter": "python",
   "pygments_lexer": "ipython2",
   "version": "2.7.6"
  }
 },
 "nbformat": 4,
 "nbformat_minor": 2
}
