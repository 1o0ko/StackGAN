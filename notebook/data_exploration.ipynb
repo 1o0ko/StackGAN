{
 "cells": [
  {
   "cell_type": "code",
   "execution_count": 1,
   "metadata": {},
   "outputs": [],
   "source": [
    "%matplotlib inline"
   ]
  },
  {
   "cell_type": "code",
   "execution_count": 2,
   "metadata": {},
   "outputs": [],
   "source": [
    "import numpy as np\n",
    "from fuel.datasets.hdf5 import H5PYDataset\n",
    "import matplotlib.pyplot as plt\n",
    "import matplotlib.image as mpimg\n",
    "\n",
    "BATH_SIZE = 100\n",
    "IMG_SIZE = 256\n",
    "\n",
    "# Img resizing stuff\n",
    "LR_HR_RATIO = 4\n",
    "BIG_SIZE = int(IMG_SIZE * 76 / 64)\n",
    "SMALL_SIZE = int(BIG_SIZE / LR_HR_RATIO)\n",
    "\n",
    "DATA_TEMPLATE = '/data/fashion/extract_sample_3_%i_%i.h5'\n",
    "LANGUAGE_MODEL_VOCABULARY = '/data/models/glove.6B.vocab'\n",
    "\n",
    "FASTTEXT_DATA = '/data/fashion/txt/fashion.dedup.txt'\n",
    "FASTTEXT_DATA_TRAIN = '/data/fashion/txt/fashion-train.txt'\n",
    "FASTTEXT_DATA_CLEAN = '/data/fashion/txt/fashion-clean.txt'"
   ]
  },
  {
   "cell_type": "code",
   "execution_count": 28,
   "metadata": {},
   "outputs": [],
   "source": [
    "import json\n",
    "categories = json.load(open('/data/fashion/categories.json', 'rt'))\n",
    "id2category = { v: str(k) for k, v in categories.iteritems() }"
   ]
  },
  {
   "cell_type": "code",
   "execution_count": 5,
   "metadata": {},
   "outputs": [],
   "source": [
    "data_set = H5PYDataset(DATA_TEMPLATE % (IMG_SIZE, IMG_SIZE), which_sets=('all',))"
   ]
  },
  {
   "cell_type": "code",
   "execution_count": 6,
   "metadata": {},
   "outputs": [
    {
     "name": "stdout",
     "output_type": "stream",
     "text": [
      "There are 186759 examples\n"
     ]
    }
   ],
   "source": [
    "print(\"There are %i examples\" % data_set.num_examples)"
   ]
  },
  {
   "cell_type": "code",
   "execution_count": 29,
   "metadata": {},
   "outputs": [],
   "source": [
    "import string\n",
    "from collections import Counter\n",
    "\n",
    "BLACK_LIST = string.punctuation.replace('%', '') + '\\n'\n",
    "\n",
    "def normalize(text_array, black_list = BLACK_LIST, vocab=None, lowercase =  True, tokenize = False):\n",
    "    text = text_array[0][0]\n",
    "    if black_list:\n",
    "        text = text.translate(None, BLACK_LIST)\n",
    "    if lowercase:\n",
    "        text = text.lower()\n",
    "    if vocab:\n",
    "        text = ' '.join([word for word in text.split() if word in vocab])\n",
    "    if tokenize:\n",
    "        return text.split()\n",
    "    return text\n",
    "\n",
    "def encode_fast_text(label, text):\n",
    "    clean_label = label.lower().replace(\" \", \"-\")\n",
    "    clean_text = ' '.join(text[0][0].split())\n",
    "    return \"__label__%s %s\\n\" % (clean_label, clean_text)"
   ]
  },
  {
   "cell_type": "code",
   "execution_count": 30,
   "metadata": {},
   "outputs": [
    {
     "data": {
      "text/plain": [
       "186759"
      ]
     },
     "execution_count": 30,
     "metadata": {},
     "output_type": "execute_result"
    }
   ],
   "source": [
    "data_set.num_examples"
   ]
  },
  {
   "cell_type": "code",
   "execution_count": 31,
   "metadata": {},
   "outputs": [],
   "source": [
    "def dump_to_fastext_corpora(data_set, output, id2category,\n",
    "                            batch_size = BATH_SIZE, \n",
    "                            limit=None):\n",
    "    '''\n",
    "    Dumps the dataset to be consumed by fastT ext.\n",
    "    '''\n",
    "    N = data_set.num_examples\n",
    "    num_batch = N / batch_size\n",
    "    \n",
    "    handle = data_set.open()\n",
    "    with open(output, 'wr') as f:\n",
    "        processed = 0\n",
    "        for i in itertools.islice(xrange(num_batch), limit):\n",
    "            # fetch batch of data\n",
    "            text_batch, img_batch, metadata_batch  = data_set.get_data(\n",
    "                handle, slice(i*batch_size, min((i+1)*batch_size, N - processed)))\n",
    "            \n",
    "            # process batch\n",
    "            lines = [encode_fast_text(id2category[id_], text) for \n",
    "                     text, id_ in zip(text_batch, metadata_batch[:,0])]\n",
    "\n",
    "            # dumplines\n",
    "            f.writelines(lines)\n",
    "            \n",
    "            # track progress \n",
    "            processed += text_batch.shape[0]   \n",
    "            if i % 100 == 0:\n",
    "                percent = int(((100.0 * i )/ num_batch))\n",
    "                print(\"Processing %i batch out of %i [%i processed]\" % (i +1, num_batch +1, processed))"
   ]
  },
  {
   "cell_type": "code",
   "execution_count": null,
   "metadata": {},
   "outputs": [],
   "source": [
    "# dump_to_fastext_corpora(data_set, FASTTEXT_CORPORA, id2category)"
   ]
  },
  {
   "cell_type": "code",
   "execution_count": null,
   "metadata": {},
   "outputs": [],
   "source": [
    "import itertools\n",
    "import math\n",
    "\n",
    "c = Counter()\n",
    "handle = data_set.open()\n",
    "num_batch = data_set.num_examples / BATH_SIZE\n",
    "for i in xrange(num_batch):\n",
    "    if i % 100 == 0:\n",
    "        percent = int(((100.0 * i )/ num_batch))\n",
    "        print(\"Processing %i batch out of %i [%i percent]\" % (i, num_batch, percent))\n",
    "        print(\"Number of tokens in the dictionary: %i\" % len(c))\n",
    "    text_batch, img_batch, metadata_batch  = \\\n",
    "    data_set.get_data(\n",
    "        handle, \n",
    "        slice(i*BATH_SIZE, min((i+1)*BATH_SIZE, data_set.num_examples))\n",
    "    )\n",
    "    \n",
    "    tokens = itertools.chain(*[normalize(text, tokenize=True) for text in text_batch])\n",
    "    c.update(tokens)"
   ]
  },
  {
   "cell_type": "code",
   "execution_count": 32,
   "metadata": {},
   "outputs": [
    {
     "data": {
      "text/plain": [
       "[('in', 66373),\n",
       " ('at', 50660),\n",
       " ('tonal', 32216),\n",
       " ('leather', 26164),\n",
       " ('and', 20352),\n",
       " ('black', 20024),\n",
       " ('sole', 15533),\n",
       " ('collar', 14415),\n",
       " ('closure', 12735),\n",
       " ('sleeve', 11325)]"
      ]
     },
     "execution_count": 32,
     "metadata": {},
     "output_type": "execute_result"
    }
   ],
   "source": [
    "c.most_common(10)"
   ]
  },
  {
   "cell_type": "markdown",
   "metadata": {
    "collapsed": true
   },
   "source": [
    "# Are we missing something?"
   ]
  },
  {
   "cell_type": "code",
   "execution_count": 35,
   "metadata": {},
   "outputs": [],
   "source": [
    "with open(LANGUAGE_MODEL_VOCABULARY, 'rt') as f:\n",
    "    vocab = set(f.read().split('\\n'))"
   ]
  },
  {
   "cell_type": "code",
   "execution_count": 36,
   "metadata": {},
   "outputs": [
    {
     "name": "stdout",
     "output_type": "stream",
     "text": [
      "There are 1326 missing words out of 3592\n",
      "Most common mising words\n"
     ]
    },
    {
     "data": {
      "text/plain": [
       "[('100%', 5439),\n",
       " ('stitching100%', 5096),\n",
       " ('goldtone', 5021),\n",
       " ('stitchingupper', 4203),\n",
       " ('laceup', 3499),\n",
       " ('rubbermade', 3024),\n",
       " ('cottonmade', 2721),\n",
       " ('stitchingbody', 2465),\n",
       " ('pressstud', 1948),\n",
       " ('lowtop', 1929)]"
      ]
     },
     "execution_count": 36,
     "metadata": {},
     "output_type": "execute_result"
    }
   ],
   "source": [
    "missing_words = Counter({ word: c[word] for word in c if word.lower() not in vocab})\n",
    "print(\"There are %i missing words out of %i\" % (len(missing_words), len(c)))\n",
    "print(\"Most common mising words\")\n",
    "missing_words.most_common(10)"
   ]
  },
  {
   "cell_type": "markdown",
   "metadata": {},
   "source": [
    "# Sample data"
   ]
  },
  {
   "cell_type": "code",
   "execution_count": 45,
   "metadata": {},
   "outputs": [],
   "source": [
    "import scipy.misc\n",
    "\n",
    "def clean_plot(img):\n",
    "    plt.imshow(img); plt.xticks([]); plt.yticks([]); plt.show()\n",
    "    \n",
    "def clean_plot_dpi(img, size, dpi=60):\n",
    "    plt.figure().set_size_inches(float(size)/float(dpi),float(size)/float(dpi))\n",
    "    plt.xticks([]); plt.yticks([]);\n",
    "    plt.imshow(img);text, img, metadata  = data_set.get_data(handle, slice(i, (i+1)))"
   ]
  },
  {
   "cell_type": "code",
   "execution_count": 53,
   "metadata": {},
   "outputs": [],
   "source": [
    "import random"
   ]
  },
  {
   "cell_type": "code",
   "execution_count": 81,
   "metadata": {},
   "outputs": [],
   "source": [
    "text_batch, img, metadata = data_set.get_data(handle, random.randint(0, data_set.num_examples))"
   ]
  },
  {
   "cell_type": "code",
   "execution_count": 82,
   "metadata": {},
   "outputs": [
    {
     "name": "stdout",
     "output_type": "stream",
     "text": [
      "Raw text: \n",
      "Slim-fit virgin wool trousers in black. Four-pocket styling. Unfinished hem. Zip-fly. Unlined. Tonal stitching. 100% virgin wool. Made in Italy.\n",
      "\n",
      "Normalized text: \n",
      "slimfit virgin wool trousers in black fourpocket styling unfinished hem zipfly unlined tonal stitching100% virgin woolmade in italy\n",
      "\n",
      "Normalized text with vocab: \n",
      "slimfit virgin wool trousers in black fourpocket styling unfinished hem zipfly unlined tonal stitching100% virgin woolmade in italy\n",
      "\n"
     ]
    },
    {
     "data": {
      "image/png": "[encoded data removed]",
      "text/plain": [
       "<matplotlib.figure.Figure at 0x7fecb7d85c10>"
      ]
     },
     "metadata": {},
     "output_type": "display_data"
    }
   ],
   "source": [
    "plt.title(id2category[int(metadata[0])])\n",
    "plt.imshow(img);\n",
    "print(\"Raw text: \\n%s\\n\" % ' '.join(text_batch[0][0].split()))\n",
    "print(\"Normalized text: \\n%s\\n\" %  ' '.join(normalize(text_batch, tokenize=True)))\n",
    "print(\"Normalized text with vocab: \\n%s\\n\" %  ' '.join(normalize(text_batch, vocab, tokenize=True)))\n",
    "plt.show()"
   ]
  },
  {
   "cell_type": "markdown",
   "metadata": {},
   "source": [
    "## To be consistent with StackGAN"
   ]
  },
  {
   "cell_type": "code",
   "execution_count": 79,
   "metadata": {},
   "outputs": [],
   "source": [
    "img_304 = scipy.misc.imresize(img, [BIG_SIZE, BIG_SIZE], 'bicubic')\n",
    "img_76 = scipy.misc.imresize(img, [SMALL_SIZE, SMALL_SIZE], 'bicubic')"
   ]
  },
  {
   "cell_type": "code",
   "execution_count": 80,
   "metadata": {},
   "outputs": [
    {
     "data": {
      "image/png": "[encoded data removed]",
      "text/plain": [
       "<matplotlib.figure.Figure at 0x7fecb7fddbd0>"
      ]
     },
     "metadata": {},
     "output_type": "display_data"
    },
    {
     "data": {
      "image/png": "[encoded data removed]",
      "text/plain": [
       "<matplotlib.figure.Figure at 0x7fecdea1dad0>"
      ]
     },
     "metadata": {},
     "output_type": "display_data"
    }
   ],
   "source": [
    "clean_plot_dpi(img_76, SMALL_SIZE) ; clean_plot_dpi(img_304, BIG_SIZE);"
   ]
  },
  {
   "cell_type": "markdown",
   "metadata": {},
   "source": [
    "# Text preprocessing for fastText"
   ]
  },
  {
   "cell_type": "code",
   "execution_count": null,
   "metadata": {},
   "outputs": [],
   "source": [
    "from random import sample\n",
    "\n",
    "def clean_line(text):\n",
    "    return text.translate(None, BLACK_LIST).lower()\n",
    "\n",
    "def process(line):\n",
    "    label, text = line.split(\" \", 1)\n",
    "    return \"%s %s\\n\" % (label, clean_line(line))\n",
    "\n",
    "def strip(line):\n",
    "    _, text = line.split(\" \", 1)\n",
    "    return \"%s\\n\" % clean_line(text)\n",
    "\n",
    "with open(FASTTEXT_DATA, 'rt') as f:\n",
    "    all_lines = f.readlines()\n",
    "    lines = list(set(all_lines))\n",
    "\n",
    "with open(FASTTEXT_DATA_TRAIN, 'wt') as f:\n",
    "    f.writelines(sample([process(line) for line in lines], len(lines)))\n",
    "    \n",
    "with open(FASTTEXT_DATA_CLEAN, 'wt') as f:\n",
    "    f.writelines([strip(line) for line in all_lines])"
   ]
  },
  {
   "cell_type": "code",
   "execution_count": null,
   "metadata": {},
   "outputs": [],
   "source": [
    "from tensorflow.python.client import device_lib"
   ]
  },
  {
   "cell_type": "code",
   "execution_count": null,
   "metadata": {},
   "outputs": [],
   "source": [
    "print(device_lib.list_local_devices())"
   ]
  }
 ],
 "metadata": {
  "kernelspec": {
   "display_name": "Python 2",
   "language": "python",
   "name": "python2"
  },
  "language_info": {
   "codemirror_mode": {
    "name": "ipython",
    "version": 2
   },
   "file_extension": ".py",
   "mimetype": "text/x-python",
   "name": "python",
   "nbconvert_exporter": "python",
   "pygments_lexer": "ipython2",
   "version": "2.7.6"
  }
 },
 "nbformat": 4,
 "nbformat_minor": 2
}
