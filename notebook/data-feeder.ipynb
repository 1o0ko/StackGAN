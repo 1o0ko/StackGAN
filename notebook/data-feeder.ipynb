{
 "cells": [
  {
   "cell_type": "code",
   "execution_count": 1,
   "metadata": {},
   "outputs": [],
   "source": [
    "import pickle"
   ]
  },
  {
   "cell_type": "code",
   "execution_count": 2,
   "metadata": {},
   "outputs": [],
   "source": [
    "import numpy as np\n",
    "from sklearn.utils import shuffle"
   ]
  },
  {
   "cell_type": "code",
   "execution_count": 3,
   "metadata": {},
   "outputs": [],
   "source": [
    "TRAIN_NUM = 1150\n",
    "VALIDATION = 50\n",
    "\n",
    "def test_val_train_split(data_path, seed=None):\n",
    "    X_all = pickle.load(open(data_path, 'rb'))\n",
    "    \n",
    "    if seed:\n",
    "        np.random.seed(seed)\n",
    "\n",
    "    indices = np.random.permutation(len(X_all))\n",
    "    \n",
    "    return { \n",
    "        \"train\" : X_all[indices[:TRAIN_NUM]],\n",
    "        \"val\": X_all[indices[TRAIN_NUM:TRAIN_NUM+VALIDATION]],\n",
    "        \"test\": X_all[indices[TRAIN_NUM+VALIDATION:]]\n",
    "    }\n",
    "\n",
    "#data = test_val_train_split('/data/X_all.pickle', 4)"
   ]
  },
  {
   "cell_type": "code",
   "execution_count": 4,
   "metadata": {},
   "outputs": [],
   "source": [
    "#X = data['train']"
   ]
  },
  {
   "cell_type": "code",
   "execution_count": 5,
   "metadata": {},
   "outputs": [],
   "source": [
    "# X.shape[0]"
   ]
  },
  {
   "cell_type": "code",
   "execution_count": 6,
   "metadata": {},
   "outputs": [],
   "source": [
    "class DataFeeder:\n",
    "    \"\"\"\n",
    "    For loading batches and testing tasks to a siamese net\n",
    "    \"\"\"\n",
    "    \n",
    "    def __init__(self, data_path, seed):\n",
    "        self.data = test_val_train_split(data_path, seed)\n",
    "\n",
    "    def get_batch(self, n, type_=\"train\"):\n",
    "        \"\"\"\n",
    "        Create batch of n pairs, half same class, half different class\n",
    "        \"\"\"\n",
    "        X=self.data[type_]\n",
    "        \n",
    "        n_classes, n_examples, w, h = X.shape\n",
    "        \n",
    "        # select n random classes\n",
    "        categories = np.random.choice(n_classes, size=(n,), replace=False)\n",
    "        pairs=[np.zeros((n, h, w, 1)) for i in range(2)]\n",
    "        targets=np.ones((n,))\n",
    "\n",
    "        # top n//2 examples would be negative\n",
    "        targets[:n//2] = -1\n",
    "        \n",
    "        for i in range(n):\n",
    "            # pick first image\n",
    "            category_1 = categories[i]\n",
    "            idx_1 = np.random.randint(0, n_examples)\n",
    "            pairs[0][i,:,:,:] = X[category_1, idx_1].reshape(w, h, 1)\n",
    "          \n",
    "        \n",
    "            # pick images of same class for 1st half, different for 2nd\n",
    "            category_2 = category_1 if i <= n//2 else (category_1 + np.random.randint(1, n_classes)) % n_classes\n",
    "            idx_2 = np.random.randint(0, n_examples)\n",
    "            pairs[1][i,:,:,:] = X[category_2, idx_2].reshape(w, h, 1)\n",
    "        \n",
    "        return pairs, targets\n",
    "    \n",
    "    def get_1_shot_batch(self, N, type_=\"val\", category=None):\n",
    "        \"\"\"Create a batch pairs of test image, support set for testing N way one-shot learning. \"\"\"\n",
    "        X=self.data[type_]\n",
    "        n_classes, n_examples, w, h = X.shape\n",
    "\n",
    "\n",
    "        # sample categories\n",
    "        categories = np.random.choice(range(n_classes), size=(N,), replace=False)\n",
    "        if category is None:\n",
    "            true_category = categories[0]\n",
    "        else:\n",
    "            if category > n_classes:\n",
    "                raise ValueError(\"The category should be in range(0, %d)\" % n_classes)\n",
    "            true_category = category\n",
    "        \n",
    "        categories[0] = true_category\n",
    "        \n",
    "        # sample indices to be used in each random classs\n",
    "        indices = np.random.randint(0, n_examples, size=(N,))\n",
    "        \n",
    "        # Select two indices to be fetch examples from the true class\n",
    "        fst_img_indx, snd_img_indx = np.random.choice(n_examples, replace=False, size=(2,))\n",
    "        \n",
    "        # Return the first example copied n-times (for N-pairs) \n",
    "        test_image = np.asarray([X[true_category, fst_img_indx, :, :]]*N).reshape(N, w, h, 1)\n",
    "        \n",
    "        # Create support set for comparision (remember, first is true)\n",
    "        support_set = X[categories, indices, :, :]\n",
    "        support_set[0, :, :] = X[true_category, snd_img_indx]\n",
    "        support_set = support_set.reshape(N, w, h, 1)\n",
    "        \n",
    "        # Create targets\n",
    "        targets = -1*np.ones((N,))\n",
    "        targets[0] = 1 # the first one is true\n",
    "        \n",
    "        # Randomize it\n",
    "        support_set, targets = shuffle(support_set, targets)\n",
    "        \n",
    "        pairs = [test_image, support_set]\n",
    "\n",
    "        return pairs, targets, true_category\n",
    "\n",
    "    def test_oneshot(self, model, m, N, type_=\"test\", verbose=0, category=None):\n",
    "        \"\"\"\n",
    "        Test average N way one-shot learning accuracy of a siamese neural net over m one-shot tasks\n",
    "        \"\"\"\n",
    "        n_correct = 0\n",
    "        if verbose:\n",
    "            print(\"Evaluating model on {} unique {} way one-shot learning tasks ...\".format(m, N))\n",
    "        for i in range(m):\n",
    "            pairs, targets, c = self.get_1_shot_batch(N, type_, category=category)\n",
    "            probs = model.predict(pairs)\n",
    "            if np.argmax(probs) == np.argmax(targets):\n",
    "                n_correct+=1\n",
    "        percent_correct = (100.0*n_correct / m)\n",
    "        if verbose:\n",
    "            print(\"Got an average of {}% {} way one-shot learning accuracy\".format(percent_correct, N))\n",
    "        return percent_correct"
   ]
  },
  {
   "cell_type": "code",
   "execution_count": 7,
   "metadata": {},
   "outputs": [],
   "source": [
    "feeder = DataFeeder('/data/X_all.pickle', 4)"
   ]
  },
  {
   "cell_type": "code",
   "execution_count": 8,
   "metadata": {},
   "outputs": [],
   "source": [
    "class RandomModel(object):\n",
    "    def predict(delf, pairs):\n",
    "        batch, _ = pairs\n",
    "        n, _,_,_ = batch.shape\n",
    "        probs = np.zeros((n,1))\n",
    "        probs[np.random.randint(0, n)] = 1\n",
    "        \n",
    "        return probs"
   ]
  },
  {
   "cell_type": "code",
   "execution_count": 9,
   "metadata": {},
   "outputs": [],
   "source": [
    "pairs, targets = feeder.get_batch(10)"
   ]
  },
  {
   "cell_type": "code",
   "execution_count": 10,
   "metadata": {},
   "outputs": [],
   "source": [
    "(left, right), targets, category = feeder.get_1_shot_batch(10)"
   ]
  },
  {
   "cell_type": "code",
   "execution_count": 11,
   "metadata": {},
   "outputs": [
    {
     "data": {
      "text/plain": [
       "array([[ 0.],\n",
       "       [ 0.],\n",
       "       [ 0.],\n",
       "       [ 0.],\n",
       "       [ 0.],\n",
       "       [ 0.],\n",
       "       [ 0.],\n",
       "       [ 0.],\n",
       "       [ 0.],\n",
       "       [ 1.]])"
      ]
     },
     "execution_count": 11,
     "metadata": {},
     "output_type": "execute_result"
    }
   ],
   "source": [
    "model = RandomModel()\n",
    "model.predict((left, right))"
   ]
  },
  {
   "cell_type": "code",
   "execution_count": 12,
   "metadata": {},
   "outputs": [
    {
     "name": "stdout",
     "output_type": "stream",
     "text": [
      "Evaluating model on 100 unique 10 way one-shot learning tasks ...\n",
      "Got an average of 12.0% 10 way one-shot learning accuracy\n"
     ]
    }
   ],
   "source": [
    "feeder.test_oneshot(model, 100, 10, verbose=1);"
   ]
  }
 ],
 "metadata": {
  "kernelspec": {
   "display_name": "Python 2",
   "language": "python",
   "name": "python2"
  },
  "language_info": {
   "codemirror_mode": {
    "name": "ipython",
    "version": 2
   },
   "file_extension": ".py",
   "mimetype": "text/x-python",
   "name": "python",
   "nbconvert_exporter": "python",
   "pygments_lexer": "ipython2",
   "version": "2.7.6"
  }
 },
 "nbformat": 4,
 "nbformat_minor": 2
}
