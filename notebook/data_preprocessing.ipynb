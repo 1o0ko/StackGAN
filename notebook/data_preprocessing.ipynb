{
 "cells": [
  {
   "cell_type": "code",
   "execution_count": 1,
   "metadata": {
    "collapsed": true
   },
   "outputs": [],
   "source": [
    "%load_ext autoreload\n",
    "%autoreload 2\n",
    "%matplotlib inline"
   ]
  },
  {
   "cell_type": "code",
   "execution_count": 2,
   "metadata": {
    "collapsed": true
   },
   "outputs": [],
   "source": [
    "# Add project code\n",
    "import sys\n",
    "sys.path.append('/eai/project/')"
   ]
  },
  {
   "cell_type": "code",
   "execution_count": 3,
   "metadata": {
    "collapsed": false
   },
   "outputs": [
    {
     "name": "stderr",
     "output_type": "stream",
     "text": [
      "/usr/local/lib/python2.7/dist-packages/h5py/__init__.py:36: FutureWarning: Conversion of the second argument of issubdtype from `float` to `np.floating` is deprecated. In future, it will be treated as `np.float64 == np.dtype(float).type`.\n",
      "  from ._conv import register_converters as _register_converters\n"
     ]
    }
   ],
   "source": [
    "import os \n",
    "import numpy as np\n",
    "from fuel.datasets.hdf5 import H5PYDataset\n",
    "import matplotlib.pyplot as plt\n",
    "\n",
    "BATH_SIZE = 100\n",
    "IMG_SIZE = 256\n",
    "\n",
    "# Img resizing stuff\n",
    "LR_HR_RATIO = 4\n",
    "BIG_SIZE = int(IMG_SIZE * 76 / 64)\n",
    "SMALL_SIZE = int(BIG_SIZE / LR_HR_RATIO)\n",
    "\n",
    "FASHION_PATH  = '/fashion/'\n",
    "DATA_PATH     = '/data/'\n",
    "DATA_TEMPLATE =  os.path.join(FASHION_PATH, 'ssense_%i_%i.h5')"
   ]
  },
  {
   "cell_type": "code",
   "execution_count": 4,
   "metadata": {
    "collapsed": false
   },
   "outputs": [
    {
     "name": "stdout",
     "output_type": "stream",
     "text": [
      "ssense_128_128.h5  ssense_256_256.h5  ssense_512_512.h5  ssense_full_size.h5\r\n"
     ]
    }
   ],
   "source": [
    "! ls { FASHION_PATH }"
   ]
  },
  {
   "cell_type": "markdown",
   "metadata": {},
   "source": [
    "## Load categories"
   ]
  },
  {
   "cell_type": "code",
   "execution_count": 85,
   "metadata": {
    "collapsed": false
   },
   "outputs": [],
   "source": [
    "import json\n",
    "category2idx = json.load(open(os.path.join(DATA_PATH, 'categories.json'), 'rt'))"
   ]
  },
  {
   "cell_type": "markdown",
   "metadata": {},
   "source": [
    "## Load all the data into memory"
   ]
  },
  {
   "cell_type": "code",
   "execution_count": 40,
   "metadata": {
    "collapsed": false
   },
   "outputs": [],
   "source": [
    "dataset = H5PYDataset(DATA_TEMPLATE % (IMG_SIZE, IMG_SIZE), \n",
    "                      sources = ['input_category', 'input_description', 'input_image'],\n",
    "                      which_sets=('all',),  load_in_memory=True)"
   ]
  },
  {
   "cell_type": "code",
   "execution_count": 45,
   "metadata": {
    "collapsed": false
   },
   "outputs": [],
   "source": [
    "classes, texts, images = dataset.data_sources"
   ]
  },
  {
   "cell_type": "code",
   "execution_count": 79,
   "metadata": {
    "collapsed": false
   },
   "outputs": [
    {
     "name": "stdout",
     "output_type": "stream",
     "text": [
      "There are 73761 examples\n"
     ]
    }
   ],
   "source": [
    "print(\"There are %i examples\" % dataset.num_examples)"
   ]
  },
  {
   "cell_type": "code",
   "execution_count": 80,
   "metadata": {
    "collapsed": false
   },
   "outputs": [
    {
     "name": "stdout",
     "output_type": "stream",
     "text": [
      "((73761, 1), (73761, 256, 256, 3), (73761, 1))\n"
     ]
    }
   ],
   "source": [
    "print(texts.shape, images.shape, classes.shape)"
   ]
  },
  {
   "cell_type": "markdown",
   "metadata": {},
   "source": [
    "# Preprocessing"
   ]
  },
  {
   "cell_type": "code",
   "execution_count": 48,
   "metadata": {
    "collapsed": true
   },
   "outputs": [],
   "source": [
    "import string\n",
    "from collections import Counter\n",
    "\n",
    "BLACK_LIST = string.punctuation.replace('%', '') + '\\n'\n",
    "\n",
    "def normalize(text_array, \n",
    "    black_list = BLACK_LIST,\n",
    "    vocab=None, lowercase =  True, tokenize = False):\n",
    "    text = text_array[0]\n",
    "    if black_list:\n",
    "        text = text.translate(string.maketrans(BLACK_LIST, ' '*len(BLACK_LIST)))\n",
    "    if lowercase:\n",
    "        text = text.lower()\n",
    "    if vocab:\n",
    "        text = ' '.join([word for word in text.split() if word in vocab])\n",
    "        \n",
    "    if tokenize:\n",
    "        return text.split()\n",
    "    else:\n",
    "        return ' '.join(text.split())"
   ]
  },
  {
   "cell_type": "markdown",
   "metadata": {},
   "source": [
    "### Create class info"
   ]
  },
  {
   "cell_type": "code",
   "execution_count": 49,
   "metadata": {
    "collapsed": false
   },
   "outputs": [
    {
     "name": "stdout",
     "output_type": "stream",
     "text": [
      "N. examples: 73761, fst: ['TOPS']\n"
     ]
    }
   ],
   "source": [
    "print(\"N. examples: %i, fst: %s\" %(len(classes), classes[0]))"
   ]
  },
  {
   "cell_type": "markdown",
   "metadata": {},
   "source": [
    "### Create captions and filenames"
   ]
  },
  {
   "cell_type": "code",
   "execution_count": 88,
   "metadata": {
    "collapsed": true
   },
   "outputs": [],
   "source": [
    "def create_captions(\n",
    "    classes, texts, category2idx, \n",
    "    verbose = True, save=True):\n",
    "    '''\n",
    "    helper function to create text_c10 folder\n",
    "    '''\n",
    "    cls2count = {k.replace(\" \", \"_\"): 1 for k in category2idx}\n",
    "    filenames = []\n",
    "    for index, (cls, text) in enumerate(zip(classes, texts)):\n",
    "        category = cls[0].replace(\" \", \"_\").replace(\"&\", 'AND')\n",
    "        cls = cls[0].replace(\"&\", 'AND')\n",
    "        \n",
    "        dirname  = \"%.3i.%s\"   % (category2idx[cls], category)\n",
    "        filename = \"%s_%i.txt\" % (category, cls2count[category])\n",
    "\n",
    "        directory = os.path.join(DATA_PATH, \"text_c10/%s\" % dirname)\n",
    "        if not os.path.exists(directory):\n",
    "            os.makedirs(directory)\n",
    "\n",
    "        if verbose and (index % 1000) == 0:\n",
    "            print(\"%i - %s\" % (index, filename))\n",
    "        \n",
    "        if save:\n",
    "            with open(os.path.join(directory, filename), 'wt') as f:\n",
    "                f.write(\"%s\\n\" % normalize(text))    \n",
    "\n",
    "        filenames.append(os.path.join(dirname, filename))\n",
    "        cls2count[category] += 1       \n",
    "        \n",
    "    return filenames"
   ]
  },
  {
   "cell_type": "code",
   "execution_count": 91,
   "metadata": {
    "collapsed": false
   },
   "outputs": [],
   "source": [
    "# prepare filenames\n",
    "filenames = create_captions(classes, texts, category2idx, False, False)"
   ]
  },
  {
   "cell_type": "code",
   "execution_count": 92,
   "metadata": {
    "collapsed": false
   },
   "outputs": [
    {
     "name": "stdout",
     "output_type": "stream",
     "text": [
      "N. files: 73761, fst: 001.TOPS/TOPS_1.txt\n"
     ]
    }
   ],
   "source": [
    "print(\"N. files: %i, fst: %s\" % (len(filenames), filenames[0]))"
   ]
  },
  {
   "cell_type": "markdown",
   "metadata": {},
   "source": [
    "### Create embedding"
   ]
  },
  {
   "cell_type": "code",
   "execution_count": 17,
   "metadata": {
    "collapsed": false
   },
   "outputs": [
    {
     "name": "stderr",
     "output_type": "stream",
     "text": [
      "Using TensorFlow backend.\n"
     ]
    },
    {
     "name": "stdout",
     "output_type": "stream",
     "text": [
      "Loading the graph\n"
     ]
    }
   ],
   "source": [
    "from embedding.model import Model\n",
    "\n",
    "MODEL_PATH = '/models/fashion/'\n",
    "\n",
    "model = Model(\n",
    "    os.path.join(MODEL_PATH, 'frozen_model.pb'),\n",
    "    os.path.join(MODEL_PATH, 'tokenizer.pickle'))"
   ]
  },
  {
   "cell_type": "code",
   "execution_count": 41,
   "metadata": {
    "collapsed": true
   },
   "outputs": [],
   "source": [
    "def get_batch(list_, batch_size):\n",
    "    \"\"\"Yield successive n-sized chunks from l.\"\"\"\n",
    "    for i in range(0, len(list_), batch_size):\n",
    "        yield list_[i:i + batch_size]\n",
    "        \n",
    "def prepare_embeddings(texts, model, limit=None, batch_size=128):\n",
    "    # normalize texts\n",
    "    text_list = [normalize(text) for text in texts[:limit].reshape(-1, 1)]\n",
    "    \n",
    "    hs = []\n",
    "    for index, batch in enumerate(get_batch(text_list, batch_size)):\n",
    "        if index and index % 100:\n",
    "            print(\"Processing batch number %i\" % index)\n",
    "        \n",
    "        hs.extend([h.reshape(1, -1) for h in model.embed(batch)])\n",
    "\n",
    "    return hs"
   ]
  },
  {
   "cell_type": "markdown",
   "metadata": {},
   "source": [
    "## Stratified split\n",
    "\n",
    "Due to the fact, that we have high clas imbalance we have to split the dataset using stratified samplig"
   ]
  },
  {
   "cell_type": "code",
   "execution_count": 22,
   "metadata": {
    "collapsed": true
   },
   "outputs": [],
   "source": [
    "from sklearn.model_selection import StratifiedShuffleSplit"
   ]
  },
  {
   "cell_type": "code",
   "execution_count": 23,
   "metadata": {
    "collapsed": true
   },
   "outputs": [],
   "source": [
    "sss = StratifiedShuffleSplit(n_splits=1, test_size=0.25, random_state=0)\n",
    "train_idx, test_idx = list(sss.split(class_info, class_info))[0]"
   ]
  },
  {
   "cell_type": "code",
   "execution_count": 24,
   "metadata": {
    "collapsed": false
   },
   "outputs": [
    {
     "name": "stdout",
     "output_type": "stream",
     "text": [
      "MSE of diffrences: 0.00000\n"
     ]
    }
   ],
   "source": [
    "# check if splits are behaving the way we expect\n",
    "\n",
    "def split_hist(data, split):\n",
    "    c = Counter(np.array(data)[split]).most_common()\n",
    "    N = float(sum([v for (k, v) in c]))\n",
    "    cp = [(k, v/ N) for (k, v) in c ]\n",
    "    return np.array([v for (k, v ) in sorted(cp, key = lambda (k, v): k)])\n",
    "\n",
    "print(\"MSE of diffrences: %0.5f\" % np.sum(np.power(\n",
    "    split_hist(class_info, train_idx) - split_hist(class_info, test_idx\n",
    "    ), 2)))"
   ]
  },
  {
   "cell_type": "code",
   "execution_count": 60,
   "metadata": {
    "collapsed": false
   },
   "outputs": [
    {
     "data": {
      "text/plain": [
       "(46690, 256, 256, 3)"
      ]
     },
     "execution_count": 60,
     "metadata": {},
     "output_type": "execute_result"
    }
   ],
   "source": [
    "images[test_idx].shape"
   ]
  },
  {
   "cell_type": "code",
   "execution_count": 69,
   "metadata": {
    "collapsed": false
   },
   "outputs": [
    {
     "data": {
      "text/plain": [
       "array([107372, 137760,  88487,  38586, 109923, 171122,  75016,  85465,\n",
       "       106474,   3371])"
      ]
     },
     "execution_count": 69,
     "metadata": {},
     "output_type": "execute_result"
    }
   ],
   "source": [
    "test_idx[:10]"
   ]
  },
  {
   "cell_type": "code",
   "execution_count": 110,
   "metadata": {
    "collapsed": true
   },
   "outputs": [],
   "source": [
    "from scipy.misc import imresize\n",
    "\n",
    "def dump_all(class_info, filenames, images, texts, split, model, outdir):\n",
    "    \n",
    "    if not os.path.exists(outdir):\n",
    "        os.makedirs(outdir)\n",
    "    \n",
    "    print('Selecting splits')\n",
    "    imgs = images[split]\n",
    "    txts = texts[split]\n",
    "    \n",
    "    class_info_ = np.array(class_info)[split].tolist()\n",
    "    filenames_ = np.array(filenames)[split].tolist()\n",
    "\n",
    "    print(\"N. files: %i, fst: %s\" % (len(filenames_), filenames_[0]))\n",
    "    print(\"N. examples: %i, fst: %s\" %(len(class_info_), class_info_[0]))\n",
    "    \n",
    "    print(\"Saving class info\")\n",
    "    with open(os.path.join(outdir, 'class_info.pickle '), 'wb') as f:\n",
    "        pickle.dump(class_info_, f)\n",
    "        \n",
    "    print(\"Saving filenames\")\n",
    "    with open(os.path.join(outdir, 'filenames.pickle '), 'wb') as f:\n",
    "        pickle.dump(filenames_, f)\n",
    "\n",
    "    print('Creating 76x76 images')\n",
    "    img_76  = [imresize(img, [SMALL_SIZE, SMALL_SIZE], 'bicubic') for img in imgs]\n",
    "    print(\"Small images: %i, %s\" % (len(img_76),  img_76[0].shape))\n",
    "    \n",
    "    print(\"Saving 76x76 images\")\n",
    "    with open(os.path.join(outdir, '76images.pickle'), 'wb') as f:\n",
    "        pickle.dump(img_76, f)\n",
    "        \n",
    "    print('Creating 304x304 images')\n",
    "    img_304 = [imresize(img, [BIG_SIZE, BIG_SIZE], 'bicubic') for img in imgs]\n",
    "    print(\"Big images: %i, %s\" % (len(img_304), img_304[0].shape))\n",
    "    \n",
    "    print(\"Saving 304x304 images\")\n",
    "    with open(os.path.join(outdir, '304images.pickle'), 'wb') as f:\n",
    "        pickle.dump(img_304, f)\n",
    "    \n",
    "    print(\"Creating text embeddings\")\n",
    "    embeddings = prepare_embeddings(txts, model)\n",
    "    print(\"Embeddings %i, %s\" % (len(embeddings), embeddings[0].shape))\n",
    "    \n",
    "    print(\"Saving embeddings\")\n",
    "    with open(os.path.join(outdir, 'custom_embeddings.pickle'), 'wb') as f:\n",
    "        pickle.dump(embeddings, f)"
   ]
  },
  {
   "cell_type": "code",
   "execution_count": null,
   "metadata": {
    "collapsed": false
   },
   "outputs": [
    {
     "name": "stdout",
     "output_type": "stream",
     "text": [
      "Selecting splits\n",
      "N. files: 46690, fst: 087.Zip_Up_&_Buckled_Boots/Zip_Up_&_Buckled_Boots_582.txt\n",
      "N. examples: 46690, fst: 87\n",
      "Saving class info\n",
      "Saving filenames\n",
      "Creating 76x76 images\n",
      "Small images: 46690, (76, 76, 3)\n",
      "Saving 76x76 images\n",
      "Creating 304x304 images\n",
      "Big images: 46690, (304, 304, 3)\n",
      "Saving 304x304 images\n"
     ]
    }
   ],
   "source": [
    "dump_all(class_info, filenames, images, texts, test_idx, model, '/data/fashion/test')"
   ]
  },
  {
   "cell_type": "code",
   "execution_count": 115,
   "metadata": {
    "collapsed": false
   },
   "outputs": [
    {
     "name": "stdout",
     "output_type": "stream",
     "text": [
      "Selecting splits\n",
      "N. files: 140069, fst: 026.Hoodies_&_Zipups/Hoodies_&_Zipups_844.txt\n",
      "N. examples: 140069, fst: 26\n",
      "Saving class info\n",
      "Saving filenames\n",
      "Creating 76x76 images\n",
      "Small images: 140069, (76, 76, 3)\n",
      "Saving 76x76 images\n",
      "Creating 304x304 images\n",
      "Big images: 140069, (304, 304, 3)\n",
      "Saving 304x304 images\n",
      "Creating text embeddings\n",
      "Processing batch number 1\n",
      "Processing batch number 2\n",
      "Processing batch number 3\n",
      "Processing batch number 4\n",
      "Processing batch number 5\n",
      "Processing batch number 6\n",
      "Processing batch number 7\n",
      "Processing batch number 8\n",
      "Processing batch number 9\n",
      "Processing batch number 10\n",
      "Processing batch number 11\n",
      "Processing batch number 12\n",
      "Processing batch number 13\n",
      "Processing batch number 14\n",
      "Processing batch number 15\n",
      "Processing batch number 16\n",
      "Processing batch number 17\n",
      "Processing batch number 18\n",
      "Processing batch number 19\n",
      "Processing batch number 20\n",
      "Processing batch number 21\n",
      "Processing batch number 22\n",
      "Processing batch number 23\n",
      "Processing batch number 24\n",
      "Processing batch number 25\n",
      "Processing batch number 26\n",
      "Processing batch number 27\n",
      "Processing batch number 28\n",
      "Processing batch number 29\n",
      "Processing batch number 30\n",
      "Processing batch number 31\n",
      "Processing batch number 32\n",
      "Processing batch number 33\n",
      "Processing batch number 34\n",
      "Processing batch number 35\n",
      "Processing batch number 36\n",
      "Processing batch number 37\n",
      "Processing batch number 38\n",
      "Processing batch number 39\n",
      "Processing batch number 40\n",
      "Processing batch number 41\n",
      "Processing batch number 42\n",
      "Processing batch number 43\n",
      "Processing batch number 44\n",
      "Processing batch number 45\n",
      "Processing batch number 46\n",
      "Processing batch number 47\n",
      "Processing batch number 48\n",
      "Processing batch number 49\n",
      "Processing batch number 50\n",
      "Processing batch number 51\n",
      "Processing batch number 52\n",
      "Processing batch number 53\n",
      "Processing batch number 54\n",
      "Processing batch number 55\n",
      "Processing batch number 56\n",
      "Processing batch number 57\n",
      "Processing batch number 58\n",
      "Processing batch number 59\n",
      "Processing batch number 60\n",
      "Processing batch number 61\n",
      "Processing batch number 62\n",
      "Processing batch number 63\n",
      "Processing batch number 64\n",
      "Processing batch number 65\n",
      "Processing batch number 66\n",
      "Processing batch number 67\n",
      "Processing batch number 68\n",
      "Processing batch number 69\n",
      "Processing batch number 70\n",
      "Processing batch number 71\n",
      "Processing batch number 72\n",
      "Processing batch number 73\n",
      "Processing batch number 74\n",
      "Processing batch number 75\n",
      "Processing batch number 76\n",
      "Processing batch number 77\n",
      "Processing batch number 78\n",
      "Processing batch number 79\n",
      "Processing batch number 80\n",
      "Processing batch number 81\n",
      "Processing batch number 82\n",
      "Processing batch number 83\n",
      "Processing batch number 84\n",
      "Processing batch number 85\n",
      "Processing batch number 86\n",
      "Processing batch number 87\n",
      "Processing batch number 88\n",
      "Processing batch number 89\n",
      "Processing batch number 90\n",
      "Processing batch number 91\n",
      "Processing batch number 92\n",
      "Processing batch number 93\n",
      "Processing batch number 94\n",
      "Processing batch number 95\n",
      "Processing batch number 96\n",
      "Processing batch number 97\n",
      "Processing batch number 98\n",
      "Processing batch number 99\n",
      "Processing batch number 101\n",
      "Processing batch number 102\n",
      "Processing batch number 103\n",
      "Processing batch number 104\n",
      "Processing batch number 105\n",
      "Processing batch number 106\n",
      "Processing batch number 107\n",
      "Processing batch number 108\n",
      "Processing batch number 109\n",
      "Processing batch number 110\n",
      "Processing batch number 111\n",
      "Processing batch number 112\n",
      "Processing batch number 113\n",
      "Processing batch number 114\n",
      "Processing batch number 115\n",
      "Processing batch number 116\n",
      "Processing batch number 117\n",
      "Processing batch number 118\n",
      "Processing batch number 119\n",
      "Processing batch number 120\n",
      "Processing batch number 121\n",
      "Processing batch number 122\n",
      "Processing batch number 123\n",
      "Processing batch number 124\n",
      "Processing batch number 125\n",
      "Processing batch number 126\n",
      "Processing batch number 127\n",
      "Processing batch number 128\n",
      "Processing batch number 129\n",
      "Processing batch number 130\n",
      "Processing batch number 131\n",
      "Processing batch number 132\n",
      "Processing batch number 133\n",
      "Processing batch number 134\n",
      "Processing batch number 135\n",
      "Processing batch number 136\n",
      "Processing batch number 137\n",
      "Processing batch number 138\n",
      "Processing batch number 139\n",
      "Processing batch number 140\n",
      "Processing batch number 141\n",
      "Processing batch number 142\n",
      "Processing batch number 143\n",
      "Processing batch number 144\n",
      "Processing batch number 145\n",
      "Processing batch number 146\n",
      "Processing batch number 147\n",
      "Processing batch number 148\n",
      "Processing batch number 149\n",
      "Processing batch number 150\n",
      "Processing batch number 151\n",
      "Processing batch number 152\n",
      "Processing batch number 153\n",
      "Processing batch number 154\n",
      "Processing batch number 155\n",
      "Processing batch number 156\n",
      "Processing batch number 157\n",
      "Processing batch number 158\n",
      "Processing batch number 159\n",
      "Processing batch number 160\n",
      "Processing batch number 161\n",
      "Processing batch number 162\n",
      "Processing batch number 163\n",
      "Processing batch number 164\n",
      "Processing batch number 165\n",
      "Processing batch number 166\n",
      "Processing batch number 167\n",
      "Processing batch number 168\n",
      "Processing batch number 169\n",
      "Processing batch number 170\n",
      "Processing batch number 171\n",
      "Processing batch number 172\n",
      "Processing batch number 173\n",
      "Processing batch number 174\n",
      "Processing batch number 175\n",
      "Processing batch number 176\n",
      "Processing batch number 177\n",
      "Processing batch number 178\n",
      "Processing batch number 179\n",
      "Processing batch number 180\n",
      "Processing batch number 181\n",
      "Processing batch number 182\n",
      "Processing batch number 183\n",
      "Processing batch number 184\n",
      "Processing batch number 185\n",
      "Processing batch number 186\n",
      "Processing batch number 187\n",
      "Processing batch number 188\n",
      "Processing batch number 189\n",
      "Processing batch number 190\n",
      "Processing batch number 191\n",
      "Processing batch number 192\n",
      "Processing batch number 193\n",
      "Processing batch number 194\n",
      "Processing batch number 195\n",
      "Processing batch number 196\n",
      "Processing batch number 197\n",
      "Processing batch number 198\n",
      "Processing batch number 199\n",
      "Processing batch number 201\n",
      "Processing batch number 202\n",
      "Processing batch number 203\n",
      "Processing batch number 204\n",
      "Processing batch number 205\n",
      "Processing batch number 206\n",
      "Processing batch number 207\n",
      "Processing batch number 208\n",
      "Processing batch number 209\n",
      "Processing batch number 210\n",
      "Processing batch number 211\n",
      "Processing batch number 212\n",
      "Processing batch number 213\n",
      "Processing batch number 214\n",
      "Processing batch number 215\n",
      "Processing batch number 216\n",
      "Processing batch number 217\n",
      "Processing batch number 218\n",
      "Processing batch number 219\n",
      "Processing batch number 220\n",
      "Processing batch number 221\n",
      "Processing batch number 222\n",
      "Processing batch number 223\n",
      "Processing batch number 224\n",
      "Processing batch number 225\n",
      "Processing batch number 226\n",
      "Processing batch number 227\n",
      "Processing batch number 228\n",
      "Processing batch number 229\n",
      "Processing batch number 230\n",
      "Processing batch number 231\n",
      "Processing batch number 232\n",
      "Processing batch number 233\n",
      "Processing batch number 234\n",
      "Processing batch number 235\n",
      "Processing batch number 236\n",
      "Processing batch number 237\n",
      "Processing batch number 238\n",
      "Processing batch number 239\n",
      "Processing batch number 240\n",
      "Processing batch number 241\n",
      "Processing batch number 242\n",
      "Processing batch number 243\n",
      "Processing batch number 244\n",
      "Processing batch number 245\n",
      "Processing batch number 246\n",
      "Processing batch number 247\n",
      "Processing batch number 248\n",
      "Processing batch number 249\n",
      "Processing batch number 250\n",
      "Processing batch number 251\n",
      "Processing batch number 252\n",
      "Processing batch number 253\n",
      "Processing batch number 254\n",
      "Processing batch number 255\n",
      "Processing batch number 256\n",
      "Processing batch number 257\n",
      "Processing batch number 258\n",
      "Processing batch number 259\n",
      "Processing batch number 260\n",
      "Processing batch number 261\n",
      "Processing batch number 262\n",
      "Processing batch number 263\n",
      "Processing batch number 264\n",
      "Processing batch number 265\n",
      "Processing batch number 266\n",
      "Processing batch number 267\n",
      "Processing batch number 268\n",
      "Processing batch number 269\n",
      "Processing batch number 270\n",
      "Processing batch number 271\n",
      "Processing batch number 272\n",
      "Processing batch number 273\n",
      "Processing batch number 274\n",
      "Processing batch number 275\n",
      "Processing batch number 276\n",
      "Processing batch number 277\n",
      "Processing batch number 278\n",
      "Processing batch number 279\n",
      "Processing batch number 280\n",
      "Processing batch number 281\n",
      "Processing batch number 282\n",
      "Processing batch number 283\n",
      "Processing batch number 284\n",
      "Processing batch number 285\n",
      "Processing batch number 286\n",
      "Processing batch number 287\n",
      "Processing batch number 288\n",
      "Processing batch number 289\n",
      "Processing batch number 290\n",
      "Processing batch number 291\n",
      "Processing batch number 292\n",
      "Processing batch number 293\n",
      "Processing batch number 294\n",
      "Processing batch number 295\n",
      "Processing batch number 296\n",
      "Processing batch number 297\n",
      "Processing batch number 298\n",
      "Processing batch number 299\n",
      "Processing batch number 301\n",
      "Processing batch number 302\n",
      "Processing batch number 303\n",
      "Processing batch number 304\n",
      "Processing batch number 305\n",
      "Processing batch number 306\n",
      "Processing batch number 307\n",
      "Processing batch number 308\n",
      "Processing batch number 309\n",
      "Processing batch number 310\n",
      "Processing batch number 311\n",
      "Processing batch number 312\n",
      "Processing batch number 313\n",
      "Processing batch number 314\n",
      "Processing batch number 315\n",
      "Processing batch number 316\n",
      "Processing batch number 317\n",
      "Processing batch number 318\n",
      "Processing batch number 319\n",
      "Processing batch number 320\n",
      "Processing batch number 321\n",
      "Processing batch number 322\n",
      "Processing batch number 323\n",
      "Processing batch number 324\n",
      "Processing batch number 325\n",
      "Processing batch number 326\n",
      "Processing batch number 327\n",
      "Processing batch number 328\n",
      "Processing batch number 329\n",
      "Processing batch number 330\n",
      "Processing batch number 331\n",
      "Processing batch number 332\n",
      "Processing batch number 333\n",
      "Processing batch number 334\n",
      "Processing batch number 335\n",
      "Processing batch number 336\n",
      "Processing batch number 337\n",
      "Processing batch number 338\n",
      "Processing batch number 339\n",
      "Processing batch number 340\n",
      "Processing batch number 341\n",
      "Processing batch number 342\n",
      "Processing batch number 343\n",
      "Processing batch number 344\n",
      "Processing batch number 345\n",
      "Processing batch number 346\n",
      "Processing batch number 347\n",
      "Processing batch number 348\n",
      "Processing batch number 349\n",
      "Processing batch number 350\n",
      "Processing batch number 351\n",
      "Processing batch number 352\n",
      "Processing batch number 353\n",
      "Processing batch number 354\n",
      "Processing batch number 355\n",
      "Processing batch number 356\n",
      "Processing batch number 357\n",
      "Processing batch number 358\n",
      "Processing batch number 359\n",
      "Processing batch number 360\n",
      "Processing batch number 361\n",
      "Processing batch number 362\n",
      "Processing batch number 363\n",
      "Processing batch number 364\n",
      "Processing batch number 365\n",
      "Processing batch number 366\n",
      "Processing batch number 367\n",
      "Processing batch number 368\n",
      "Processing batch number 369\n",
      "Processing batch number 370\n",
      "Processing batch number 371\n",
      "Processing batch number 372\n",
      "Processing batch number 373\n",
      "Processing batch number 374\n",
      "Processing batch number 375\n",
      "Processing batch number 376\n",
      "Processing batch number 377\n",
      "Processing batch number 378\n",
      "Processing batch number 379\n",
      "Processing batch number 380\n",
      "Processing batch number 381\n",
      "Processing batch number 382\n",
      "Processing batch number 383\n",
      "Processing batch number 384\n",
      "Processing batch number 385\n",
      "Processing batch number 386\n",
      "Processing batch number 387\n",
      "Processing batch number 388\n",
      "Processing batch number 389\n",
      "Processing batch number 390\n",
      "Processing batch number 391\n",
      "Processing batch number 392\n",
      "Processing batch number 393\n",
      "Processing batch number 394\n",
      "Processing batch number 395\n",
      "Processing batch number 396\n",
      "Processing batch number 397\n",
      "Processing batch number 398\n",
      "Processing batch number 399\n",
      "Processing batch number 401\n",
      "Processing batch number 402\n",
      "Processing batch number 403\n",
      "Processing batch number 404\n",
      "Processing batch number 405\n",
      "Processing batch number 406\n",
      "Processing batch number 407\n",
      "Processing batch number 408\n",
      "Processing batch number 409\n",
      "Processing batch number 410\n",
      "Processing batch number 411\n",
      "Processing batch number 412\n",
      "Processing batch number 413\n",
      "Processing batch number 414\n",
      "Processing batch number 415\n",
      "Processing batch number 416\n",
      "Processing batch number 417\n",
      "Processing batch number 418\n",
      "Processing batch number 419\n",
      "Processing batch number 420\n",
      "Processing batch number 421\n",
      "Processing batch number 422\n",
      "Processing batch number 423\n",
      "Processing batch number 424\n",
      "Processing batch number 425\n",
      "Processing batch number 426\n",
      "Processing batch number 427\n",
      "Processing batch number 428\n",
      "Processing batch number 429\n",
      "Processing batch number 430\n",
      "Processing batch number 431\n",
      "Processing batch number 432\n",
      "Processing batch number 433\n",
      "Processing batch number 434\n",
      "Processing batch number 435\n",
      "Processing batch number 436\n",
      "Processing batch number 437\n",
      "Processing batch number 438\n",
      "Processing batch number 439\n",
      "Processing batch number 440\n",
      "Processing batch number 441\n",
      "Processing batch number 442\n",
      "Processing batch number 443\n",
      "Processing batch number 444\n",
      "Processing batch number 445\n",
      "Processing batch number 446\n",
      "Processing batch number 447\n",
      "Processing batch number 448\n",
      "Processing batch number 449\n",
      "Processing batch number 450\n",
      "Processing batch number 451\n",
      "Processing batch number 452\n",
      "Processing batch number 453\n",
      "Processing batch number 454\n",
      "Processing batch number 455\n",
      "Processing batch number 456\n",
      "Processing batch number 457\n",
      "Processing batch number 458\n",
      "Processing batch number 459\n",
      "Processing batch number 460\n",
      "Processing batch number 461\n",
      "Processing batch number 462\n",
      "Processing batch number 463\n",
      "Processing batch number 464\n",
      "Processing batch number 465\n",
      "Processing batch number 466\n",
      "Processing batch number 467\n",
      "Processing batch number 468\n",
      "Processing batch number 469\n",
      "Processing batch number 470\n",
      "Processing batch number 471\n",
      "Processing batch number 472\n",
      "Processing batch number 473\n",
      "Processing batch number 474\n",
      "Processing batch number 475\n",
      "Processing batch number 476\n",
      "Processing batch number 477\n",
      "Processing batch number 478\n",
      "Processing batch number 479\n",
      "Processing batch number 480\n",
      "Processing batch number 481\n",
      "Processing batch number 482\n",
      "Processing batch number 483\n",
      "Processing batch number 484\n",
      "Processing batch number 485\n",
      "Processing batch number 486\n",
      "Processing batch number 487\n",
      "Processing batch number 488\n",
      "Processing batch number 489\n",
      "Processing batch number 490\n",
      "Processing batch number 491\n",
      "Processing batch number 492\n",
      "Processing batch number 493\n",
      "Processing batch number 494\n",
      "Processing batch number 495\n",
      "Processing batch number 496\n",
      "Processing batch number 497\n",
      "Processing batch number 498\n",
      "Processing batch number 499\n",
      "Processing batch number 501\n",
      "Processing batch number 502\n",
      "Processing batch number 503\n",
      "Processing batch number 504\n",
      "Processing batch number 505\n",
      "Processing batch number 506\n",
      "Processing batch number 507\n",
      "Processing batch number 508\n",
      "Processing batch number 509\n",
      "Processing batch number 510\n",
      "Processing batch number 511\n",
      "Processing batch number 512\n",
      "Processing batch number 513\n",
      "Processing batch number 514\n",
      "Processing batch number 515\n",
      "Processing batch number 516\n",
      "Processing batch number 517\n",
      "Processing batch number 518\n",
      "Processing batch number 519\n",
      "Processing batch number 520\n",
      "Processing batch number 521\n",
      "Processing batch number 522\n",
      "Processing batch number 523\n",
      "Processing batch number 524\n",
      "Processing batch number 525\n",
      "Processing batch number 526\n",
      "Processing batch number 527\n",
      "Processing batch number 528\n",
      "Processing batch number 529\n",
      "Processing batch number 530\n",
      "Processing batch number 531\n",
      "Processing batch number 532\n",
      "Processing batch number 533\n",
      "Processing batch number 534\n",
      "Processing batch number 535\n",
      "Processing batch number 536\n",
      "Processing batch number 537\n",
      "Processing batch number 538\n",
      "Processing batch number 539\n",
      "Processing batch number 540\n",
      "Processing batch number 541\n",
      "Processing batch number 542\n",
      "Processing batch number 543\n",
      "Processing batch number 544\n",
      "Processing batch number 545\n",
      "Processing batch number 546\n",
      "Processing batch number 547\n",
      "Processing batch number 548\n",
      "Processing batch number 549\n",
      "Processing batch number 550\n",
      "Processing batch number 551\n",
      "Processing batch number 552\n",
      "Processing batch number 553\n",
      "Processing batch number 554\n",
      "Processing batch number 555\n",
      "Processing batch number 556\n",
      "Processing batch number 557\n",
      "Processing batch number 558\n",
      "Processing batch number 559\n",
      "Processing batch number 560\n",
      "Processing batch number 561\n",
      "Processing batch number 562\n",
      "Processing batch number 563\n",
      "Processing batch number 564\n",
      "Processing batch number 565\n",
      "Processing batch number 566\n",
      "Processing batch number 567\n",
      "Processing batch number 568\n",
      "Processing batch number 569\n",
      "Processing batch number 570\n",
      "Processing batch number 571\n",
      "Processing batch number 572\n",
      "Processing batch number 573\n",
      "Processing batch number 574\n",
      "Processing batch number 575\n",
      "Processing batch number 576\n",
      "Processing batch number 577\n",
      "Processing batch number 578\n",
      "Processing batch number 579\n",
      "Processing batch number 580\n",
      "Processing batch number 581\n",
      "Processing batch number 582\n",
      "Processing batch number 583\n",
      "Processing batch number 584\n",
      "Processing batch number 585\n",
      "Processing batch number 586\n",
      "Processing batch number 587\n",
      "Processing batch number 588\n",
      "Processing batch number 589\n",
      "Processing batch number 590\n",
      "Processing batch number 591\n",
      "Processing batch number 592\n",
      "Processing batch number 593\n",
      "Processing batch number 594\n",
      "Processing batch number 595\n",
      "Processing batch number 596\n",
      "Processing batch number 597\n",
      "Processing batch number 598\n",
      "Processing batch number 599\n",
      "Processing batch number 601\n",
      "Processing batch number 602\n",
      "Processing batch number 603\n",
      "Processing batch number 604\n",
      "Processing batch number 605\n",
      "Processing batch number 606\n",
      "Processing batch number 607\n",
      "Processing batch number 608\n",
      "Processing batch number 609\n",
      "Processing batch number 610\n",
      "Processing batch number 611\n",
      "Processing batch number 612\n",
      "Processing batch number 613\n",
      "Processing batch number 614\n",
      "Processing batch number 615\n",
      "Processing batch number 616\n",
      "Processing batch number 617\n",
      "Processing batch number 618\n",
      "Processing batch number 619\n",
      "Processing batch number 620\n",
      "Processing batch number 621\n",
      "Processing batch number 622\n",
      "Processing batch number 623\n",
      "Processing batch number 624\n",
      "Processing batch number 625\n",
      "Processing batch number 626\n",
      "Processing batch number 627\n",
      "Processing batch number 628\n",
      "Processing batch number 629\n",
      "Processing batch number 630\n",
      "Processing batch number 631\n",
      "Processing batch number 632\n",
      "Processing batch number 633\n",
      "Processing batch number 634\n",
      "Processing batch number 635\n",
      "Processing batch number 636\n",
      "Processing batch number 637\n",
      "Processing batch number 638\n",
      "Processing batch number 639\n",
      "Processing batch number 640\n",
      "Processing batch number 641\n",
      "Processing batch number 642\n",
      "Processing batch number 643\n",
      "Processing batch number 644\n",
      "Processing batch number 645\n",
      "Processing batch number 646\n",
      "Processing batch number 647\n",
      "Processing batch number 648\n",
      "Processing batch number 649\n",
      "Processing batch number 650\n",
      "Processing batch number 651\n",
      "Processing batch number 652\n",
      "Processing batch number 653\n",
      "Processing batch number 654\n",
      "Processing batch number 655\n",
      "Processing batch number 656\n",
      "Processing batch number 657\n",
      "Processing batch number 658\n",
      "Processing batch number 659\n",
      "Processing batch number 660\n",
      "Processing batch number 661\n",
      "Processing batch number 662\n",
      "Processing batch number 663\n",
      "Processing batch number 664\n",
      "Processing batch number 665\n",
      "Processing batch number 666\n",
      "Processing batch number 667\n",
      "Processing batch number 668\n",
      "Processing batch number 669\n",
      "Processing batch number 670\n",
      "Processing batch number 671\n",
      "Processing batch number 672\n",
      "Processing batch number 673\n",
      "Processing batch number 674\n",
      "Processing batch number 675\n",
      "Processing batch number 676\n",
      "Processing batch number 677\n",
      "Processing batch number 678\n",
      "Processing batch number 679\n",
      "Processing batch number 680\n",
      "Processing batch number 681\n",
      "Processing batch number 682\n",
      "Processing batch number 683\n",
      "Processing batch number 684\n",
      "Processing batch number 685\n",
      "Processing batch number 686\n",
      "Processing batch number 687\n",
      "Processing batch number 688\n",
      "Processing batch number 689\n",
      "Processing batch number 690\n",
      "Processing batch number 691\n",
      "Processing batch number 692\n",
      "Processing batch number 693\n",
      "Processing batch number 694\n",
      "Processing batch number 695\n",
      "Processing batch number 696\n",
      "Processing batch number 697\n",
      "Processing batch number 698\n",
      "Processing batch number 699\n",
      "Processing batch number 701\n",
      "Processing batch number 702\n",
      "Processing batch number 703\n",
      "Processing batch number 704\n",
      "Processing batch number 705\n",
      "Processing batch number 706\n",
      "Processing batch number 707\n",
      "Processing batch number 708\n",
      "Processing batch number 709\n",
      "Processing batch number 710\n",
      "Processing batch number 711\n",
      "Processing batch number 712\n",
      "Processing batch number 713\n",
      "Processing batch number 714\n",
      "Processing batch number 715\n",
      "Processing batch number 716\n",
      "Processing batch number 717\n",
      "Processing batch number 718\n",
      "Processing batch number 719\n",
      "Processing batch number 720\n",
      "Processing batch number 721\n",
      "Processing batch number 722\n",
      "Processing batch number 723\n",
      "Processing batch number 724\n",
      "Processing batch number 725\n",
      "Processing batch number 726\n",
      "Processing batch number 727\n",
      "Processing batch number 728\n",
      "Processing batch number 729\n",
      "Processing batch number 730\n",
      "Processing batch number 731\n",
      "Processing batch number 732\n",
      "Processing batch number 733\n",
      "Processing batch number 734\n",
      "Processing batch number 735\n",
      "Processing batch number 736\n",
      "Processing batch number 737\n",
      "Processing batch number 738\n",
      "Processing batch number 739\n",
      "Processing batch number 740\n",
      "Processing batch number 741\n",
      "Processing batch number 742\n",
      "Processing batch number 743\n",
      "Processing batch number 744\n",
      "Processing batch number 745\n",
      "Processing batch number 746\n",
      "Processing batch number 747\n",
      "Processing batch number 748\n",
      "Processing batch number 749\n",
      "Processing batch number 750\n",
      "Processing batch number 751\n",
      "Processing batch number 752\n",
      "Processing batch number 753\n",
      "Processing batch number 754\n",
      "Processing batch number 755\n",
      "Processing batch number 756\n",
      "Processing batch number 757\n",
      "Processing batch number 758\n",
      "Processing batch number 759\n",
      "Processing batch number 760\n",
      "Processing batch number 761\n",
      "Processing batch number 762\n",
      "Processing batch number 763\n",
      "Processing batch number 764\n",
      "Processing batch number 765\n",
      "Processing batch number 766\n",
      "Processing batch number 767\n",
      "Processing batch number 768\n",
      "Processing batch number 769\n",
      "Processing batch number 770\n",
      "Processing batch number 771\n",
      "Processing batch number 772\n",
      "Processing batch number 773\n",
      "Processing batch number 774\n",
      "Processing batch number 775\n",
      "Processing batch number 776\n",
      "Processing batch number 777\n",
      "Processing batch number 778\n",
      "Processing batch number 779\n",
      "Processing batch number 780\n",
      "Processing batch number 781\n",
      "Processing batch number 782\n",
      "Processing batch number 783\n",
      "Processing batch number 784\n",
      "Processing batch number 785\n",
      "Processing batch number 786\n",
      "Processing batch number 787\n",
      "Processing batch number 788\n",
      "Processing batch number 789\n",
      "Processing batch number 790\n",
      "Processing batch number 791\n",
      "Processing batch number 792\n",
      "Processing batch number 793\n",
      "Processing batch number 794\n",
      "Processing batch number 795\n",
      "Processing batch number 796\n",
      "Processing batch number 797\n",
      "Processing batch number 798\n",
      "Processing batch number 799\n",
      "Processing batch number 801\n",
      "Processing batch number 802\n",
      "Processing batch number 803\n",
      "Processing batch number 804\n",
      "Processing batch number 805\n",
      "Processing batch number 806\n",
      "Processing batch number 807\n",
      "Processing batch number 808\n",
      "Processing batch number 809\n",
      "Processing batch number 810\n",
      "Processing batch number 811\n",
      "Processing batch number 812\n",
      "Processing batch number 813\n",
      "Processing batch number 814\n",
      "Processing batch number 815\n",
      "Processing batch number 816\n",
      "Processing batch number 817\n",
      "Processing batch number 818\n",
      "Processing batch number 819\n",
      "Processing batch number 820\n",
      "Processing batch number 821\n",
      "Processing batch number 822\n",
      "Processing batch number 823\n",
      "Processing batch number 824\n",
      "Processing batch number 825\n",
      "Processing batch number 826\n",
      "Processing batch number 827\n",
      "Processing batch number 828\n",
      "Processing batch number 829\n",
      "Processing batch number 830\n",
      "Processing batch number 831\n",
      "Processing batch number 832\n",
      "Processing batch number 833\n",
      "Processing batch number 834\n",
      "Processing batch number 835\n",
      "Processing batch number 836\n",
      "Processing batch number 837\n",
      "Processing batch number 838\n",
      "Processing batch number 839\n",
      "Processing batch number 840\n",
      "Processing batch number 841\n",
      "Processing batch number 842\n",
      "Processing batch number 843\n",
      "Processing batch number 844\n",
      "Processing batch number 845\n",
      "Processing batch number 846\n",
      "Processing batch number 847\n",
      "Processing batch number 848\n",
      "Processing batch number 849\n",
      "Processing batch number 850\n",
      "Processing batch number 851\n",
      "Processing batch number 852\n",
      "Processing batch number 853\n",
      "Processing batch number 854\n",
      "Processing batch number 855\n",
      "Processing batch number 856\n",
      "Processing batch number 857\n",
      "Processing batch number 858\n",
      "Processing batch number 859\n",
      "Processing batch number 860\n",
      "Processing batch number 861\n",
      "Processing batch number 862\n",
      "Processing batch number 863\n",
      "Processing batch number 864\n",
      "Processing batch number 865\n",
      "Processing batch number 866\n",
      "Processing batch number 867\n",
      "Processing batch number 868\n",
      "Processing batch number 869\n",
      "Processing batch number 870\n",
      "Processing batch number 871\n",
      "Processing batch number 872\n",
      "Processing batch number 873\n",
      "Processing batch number 874\n",
      "Processing batch number 875\n",
      "Processing batch number 876\n",
      "Processing batch number 877\n",
      "Processing batch number 878\n",
      "Processing batch number 879\n",
      "Processing batch number 880\n",
      "Processing batch number 881\n",
      "Processing batch number 882\n",
      "Processing batch number 883\n",
      "Processing batch number 884\n",
      "Processing batch number 885\n",
      "Processing batch number 886\n",
      "Processing batch number 887\n",
      "Processing batch number 888\n",
      "Processing batch number 889\n",
      "Processing batch number 890\n",
      "Processing batch number 891\n",
      "Processing batch number 892\n",
      "Processing batch number 893\n",
      "Processing batch number 894\n",
      "Processing batch number 895\n",
      "Processing batch number 896\n",
      "Processing batch number 897\n",
      "Processing batch number 898\n",
      "Processing batch number 899\n",
      "Processing batch number 901\n",
      "Processing batch number 902\n",
      "Processing batch number 903\n",
      "Processing batch number 904\n",
      "Processing batch number 905\n",
      "Processing batch number 906\n",
      "Processing batch number 907\n",
      "Processing batch number 908\n",
      "Processing batch number 909\n",
      "Processing batch number 910\n",
      "Processing batch number 911\n",
      "Processing batch number 912\n",
      "Processing batch number 913\n",
      "Processing batch number 914\n",
      "Processing batch number 915\n",
      "Processing batch number 916\n",
      "Processing batch number 917\n",
      "Processing batch number 918\n",
      "Processing batch number 919\n",
      "Processing batch number 920\n",
      "Processing batch number 921\n",
      "Processing batch number 922\n",
      "Processing batch number 923\n",
      "Processing batch number 924\n",
      "Processing batch number 925\n",
      "Processing batch number 926\n",
      "Processing batch number 927\n",
      "Processing batch number 928\n",
      "Processing batch number 929\n",
      "Processing batch number 930\n",
      "Processing batch number 931\n",
      "Processing batch number 932\n",
      "Processing batch number 933\n",
      "Processing batch number 934\n",
      "Processing batch number 935\n",
      "Processing batch number 936\n",
      "Processing batch number 937\n",
      "Processing batch number 938\n",
      "Processing batch number 939\n",
      "Processing batch number 940\n",
      "Processing batch number 941\n",
      "Processing batch number 942\n",
      "Processing batch number 943\n",
      "Processing batch number 944\n",
      "Processing batch number 945\n",
      "Processing batch number 946\n",
      "Processing batch number 947\n",
      "Processing batch number 948\n",
      "Processing batch number 949\n",
      "Processing batch number 950\n",
      "Processing batch number 951\n",
      "Processing batch number 952\n",
      "Processing batch number 953\n",
      "Processing batch number 954\n",
      "Processing batch number 955\n",
      "Processing batch number 956\n",
      "Processing batch number 957\n",
      "Processing batch number 958\n",
      "Processing batch number 959\n",
      "Processing batch number 960\n",
      "Processing batch number 961\n",
      "Processing batch number 962\n",
      "Processing batch number 963\n",
      "Processing batch number 964\n",
      "Processing batch number 965\n",
      "Processing batch number 966\n",
      "Processing batch number 967\n",
      "Processing batch number 968\n",
      "Processing batch number 969\n",
      "Processing batch number 970\n",
      "Processing batch number 971\n",
      "Processing batch number 972\n",
      "Processing batch number 973\n",
      "Processing batch number 974\n",
      "Processing batch number 975\n",
      "Processing batch number 976\n",
      "Processing batch number 977\n",
      "Processing batch number 978\n",
      "Processing batch number 979\n",
      "Processing batch number 980\n",
      "Processing batch number 981\n",
      "Processing batch number 982\n",
      "Processing batch number 983\n",
      "Processing batch number 984\n",
      "Processing batch number 985\n",
      "Processing batch number 986\n",
      "Processing batch number 987\n",
      "Processing batch number 988\n",
      "Processing batch number 989\n",
      "Processing batch number 990\n",
      "Processing batch number 991\n",
      "Processing batch number 992\n",
      "Processing batch number 993\n",
      "Processing batch number 994\n",
      "Processing batch number 995\n",
      "Processing batch number 996\n",
      "Processing batch number 997\n",
      "Processing batch number 998\n",
      "Processing batch number 999\n",
      "Processing batch number 1001\n",
      "Processing batch number 1002\n",
      "Processing batch number 1003\n",
      "Processing batch number 1004\n",
      "Processing batch number 1005\n",
      "Processing batch number 1006\n",
      "Processing batch number 1007\n",
      "Processing batch number 1008\n",
      "Processing batch number 1009\n",
      "Processing batch number 1010\n",
      "Processing batch number 1011\n",
      "Processing batch number 1012\n",
      "Processing batch number 1013\n",
      "Processing batch number 1014\n",
      "Processing batch number 1015\n",
      "Processing batch number 1016\n",
      "Processing batch number 1017\n",
      "Processing batch number 1018\n",
      "Processing batch number 1019\n",
      "Processing batch number 1020\n",
      "Processing batch number 1021\n",
      "Processing batch number 1022\n",
      "Processing batch number 1023\n",
      "Processing batch number 1024\n",
      "Processing batch number 1025\n",
      "Processing batch number 1026\n",
      "Processing batch number 1027\n",
      "Processing batch number 1028\n",
      "Processing batch number 1029\n",
      "Processing batch number 1030\n",
      "Processing batch number 1031\n",
      "Processing batch number 1032\n",
      "Processing batch number 1033\n",
      "Processing batch number 1034\n",
      "Processing batch number 1035\n",
      "Processing batch number 1036\n",
      "Processing batch number 1037\n",
      "Processing batch number 1038\n",
      "Processing batch number 1039\n",
      "Processing batch number 1040\n",
      "Processing batch number 1041\n",
      "Processing batch number 1042\n",
      "Processing batch number 1043\n",
      "Processing batch number 1044\n",
      "Processing batch number 1045\n",
      "Processing batch number 1046\n",
      "Processing batch number 1047\n",
      "Processing batch number 1048\n",
      "Processing batch number 1049\n",
      "Processing batch number 1050\n",
      "Processing batch number 1051\n",
      "Processing batch number 1052\n",
      "Processing batch number 1053\n",
      "Processing batch number 1054\n",
      "Processing batch number 1055\n",
      "Processing batch number 1056\n",
      "Processing batch number 1057\n",
      "Processing batch number 1058\n",
      "Processing batch number 1059\n",
      "Processing batch number 1060\n",
      "Processing batch number 1061\n",
      "Processing batch number 1062\n",
      "Processing batch number 1063\n",
      "Processing batch number 1064\n",
      "Processing batch number 1065\n",
      "Processing batch number 1066\n",
      "Processing batch number 1067\n",
      "Processing batch number 1068\n",
      "Processing batch number 1069\n",
      "Processing batch number 1070\n",
      "Processing batch number 1071\n",
      "Processing batch number 1072\n",
      "Processing batch number 1073\n",
      "Processing batch number 1074\n",
      "Processing batch number 1075\n",
      "Processing batch number 1076\n",
      "Processing batch number 1077\n",
      "Processing batch number 1078\n",
      "Processing batch number 1079\n",
      "Processing batch number 1080\n",
      "Processing batch number 1081\n",
      "Processing batch number 1082\n",
      "Processing batch number 1083\n",
      "Processing batch number 1084\n",
      "Processing batch number 1085\n",
      "Processing batch number 1086\n",
      "Processing batch number 1087\n",
      "Processing batch number 1088\n",
      "Processing batch number 1089\n",
      "Processing batch number 1090\n",
      "Processing batch number 1091\n",
      "Processing batch number 1092\n",
      "Processing batch number 1093\n",
      "Processing batch number 1094\n",
      "Embeddings 140069, (1, 1024)\n",
      "Saving embeddings\n"
     ]
    }
   ],
   "source": [
    "dump_all(class_info, filenames, images, texts, train_idx, model, '/data/fashion/train')"
   ]
  },
  {
   "cell_type": "markdown",
   "metadata": {},
   "source": [
    "# Birds dataset"
   ]
  },
  {
   "cell_type": "code",
   "execution_count": 44,
   "metadata": {
    "collapsed": false
   },
   "outputs": [
    {
     "name": "stdout",
     "output_type": "stream",
     "text": [
      "0.75\n"
     ]
    }
   ],
   "source": [
    "# print some statistics to know how to split fashion dataset\n",
    "train_size = 8855\n",
    "test_size = 2933\n",
    "print(\"%.02f\" % (1.0 * train_size / (train_size + test_size)))"
   ]
  },
  {
   "cell_type": "code",
   "execution_count": 45,
   "metadata": {
    "collapsed": true
   },
   "outputs": [],
   "source": [
    "data_path = '/data/birds/test/'"
   ]
  },
  {
   "cell_type": "code",
   "execution_count": 46,
   "metadata": {
    "collapsed": false
   },
   "outputs": [
    {
     "name": "stdout",
     "output_type": "stream",
     "text": [
      "304images.pickle  char-CNN-RNN-embeddings.pickle  custom-embeddings.pickle\r\n",
      "76images.pickle   class_info.pickle\t\t  filenames.pickle\r\n"
     ]
    }
   ],
   "source": [
    "!ls { data_path }"
   ]
  },
  {
   "cell_type": "code",
   "execution_count": 47,
   "metadata": {
    "collapsed": true
   },
   "outputs": [],
   "source": [
    "import os\n",
    "import pickle"
   ]
  },
  {
   "cell_type": "code",
   "execution_count": 48,
   "metadata": {
    "collapsed": true
   },
   "outputs": [],
   "source": [
    "birds_class_info        = pickle.load(open(os.path.join(data_path, 'class_info.pickle'), 'rb'))\n",
    "birds_filenames         = pickle.load(open(os.path.join(data_path, 'filenames.pickle'), 'rb'))\n",
    "birds_images76          = pickle.load(open(os.path.join(data_path, '76images.pickle'), 'rb'))\n",
    "birds_custom_embeddings = pickle.load(open(os.path.join(data_path, 'custom-embeddings.pickle'), 'rb'))"
   ]
  },
  {
   "cell_type": "code",
   "execution_count": 49,
   "metadata": {
    "collapsed": false
   },
   "outputs": [
    {
     "data": {
      "text/plain": [
       "(2933, 1)"
      ]
     },
     "execution_count": 49,
     "metadata": {},
     "output_type": "execute_result"
    }
   ],
   "source": [
    "len(birds_class_info), birds_class_info[0]"
   ]
  },
  {
   "cell_type": "code",
   "execution_count": 50,
   "metadata": {
    "collapsed": false
   },
   "outputs": [
    {
     "data": {
      "text/plain": [
       "(2933, u'001.Black_footed_Albatross/Black_Footed_Albatross_0046_18')"
      ]
     },
     "execution_count": 50,
     "metadata": {},
     "output_type": "execute_result"
    }
   ],
   "source": [
    "len(birds_filenames), birds_filenames[0]"
   ]
  },
  {
   "cell_type": "code",
   "execution_count": 51,
   "metadata": {
    "collapsed": false
   },
   "outputs": [
    {
     "data": {
      "text/plain": [
       "[u'001.Black_footed_Albatross/Black_Footed_Albatross_0046_18',\n",
       " u'001.Black_footed_Albatross/Black_Footed_Albatross_0009_34',\n",
       " u'001.Black_footed_Albatross/Black_Footed_Albatross_0002_55',\n",
       " u'001.Black_footed_Albatross/Black_Footed_Albatross_0074_59',\n",
       " u'001.Black_footed_Albatross/Black_Footed_Albatross_0014_89']"
      ]
     },
     "execution_count": 51,
     "metadata": {},
     "output_type": "execute_result"
    }
   ],
   "source": [
    "birds_filenames[:5]"
   ]
  },
  {
   "cell_type": "code",
   "execution_count": 55,
   "metadata": {
    "collapsed": false,
    "scrolled": true
   },
   "outputs": [
    {
     "data": {
      "text/plain": [
       "(list, 2933, (76, 76, 3))"
      ]
     },
     "execution_count": 55,
     "metadata": {},
     "output_type": "execute_result"
    }
   ],
   "source": [
    "type(birds_images76), len(birds_images76), birds_images76[0].shape"
   ]
  },
  {
   "cell_type": "code",
   "execution_count": 53,
   "metadata": {
    "collapsed": false
   },
   "outputs": [
    {
     "data": {
      "text/plain": [
       "(list, 2933, (10, 1024))"
      ]
     },
     "execution_count": 53,
     "metadata": {},
     "output_type": "execute_result"
    }
   ],
   "source": [
    "type(birds_custom_embeddings), len(birds_custom_embeddings), birds_custom_embeddings[0].shape"
   ]
  },
  {
   "cell_type": "code",
   "execution_count": 54,
   "metadata": {
    "collapsed": false
   },
   "outputs": [
    {
     "data": {
      "text/plain": [
       "array([[ 0.        ,  0.84947538,  0.75146329, ...,  2.36164188,\n",
       "         0.        ,  0.        ],\n",
       "       [ 0.        ,  0.25183675,  0.57483685, ...,  0.09980994,\n",
       "         0.        ,  0.        ],\n",
       "       [ 0.        ,  0.53113759,  0.80126029, ...,  3.72051549,\n",
       "         0.        ,  0.        ],\n",
       "       ..., \n",
       "       [ 0.        ,  0.83978474,  0.56212908, ...,  1.83551645,\n",
       "         0.        ,  0.        ],\n",
       "       [ 0.        ,  0.47584864,  0.01191006, ...,  2.09561086,\n",
       "         0.        ,  0.        ],\n",
       "       [ 0.        ,  0.        ,  0.73810697, ...,  0.64446282,\n",
       "         0.        ,  0.        ]], dtype=float32)"
      ]
     },
     "execution_count": 54,
     "metadata": {},
     "output_type": "execute_result"
    }
   ],
   "source": [
    "birds_custom_embeddings[0]"
   ]
  },
  {
   "cell_type": "markdown",
   "metadata": {},
   "source": [
    "### text_c10 folder"
   ]
  },
  {
   "cell_type": "code",
   "execution_count": null,
   "metadata": {
    "collapsed": true
   },
   "outputs": [],
   "source": [
    "! ls /data/birds/text_c10/ | head "
   ]
  },
  {
   "cell_type": "code",
   "execution_count": null,
   "metadata": {
    "collapsed": true
   },
   "outputs": [],
   "source": [
    "! ls /data/birds/text_c10/001.Black_footed_Albatross  | head"
   ]
  },
  {
   "cell_type": "code",
   "execution_count": null,
   "metadata": {
    "collapsed": true
   },
   "outputs": [],
   "source": [
    "! cat /data/birds/text_c10/001.Black_footed_Albatross/Black_Footed_Albatross_0001_796111.txt"
   ]
  },
  {
   "cell_type": "markdown",
   "metadata": {},
   "source": [
    "## To be consistent with StackGAN"
   ]
  },
  {
   "cell_type": "code",
   "execution_count": null,
   "metadata": {
    "collapsed": true
   },
   "outputs": [],
   "source": [
    "img_304 = scipy.misc.imresize(img, [BIG_SIZE, BIG_SIZE], 'bicubic')\n",
    "img_76 = scipy.misc.imresize(img, [SMALL_SIZE, SMALL_SIZE], 'bicubic')"
   ]
  },
  {
   "cell_type": "code",
   "execution_count": null,
   "metadata": {
    "collapsed": true
   },
   "outputs": [],
   "source": [
    "clean_plot_dpi(img_76, SMALL_SIZE) ; clean_plot_dpi(img_304, BIG_SIZE);"
   ]
  },
  {
   "cell_type": "code",
   "execution_count": null,
   "metadata": {
    "collapsed": true
   },
   "outputs": [],
   "source": [
    "from tensorflow.python.client import device_lib"
   ]
  },
  {
   "cell_type": "code",
   "execution_count": null,
   "metadata": {
    "collapsed": true
   },
   "outputs": [],
   "source": [
    "print(device_lib.list_local_devices())"
   ]
  }
 ],
 "metadata": {
  "kernelspec": {
   "display_name": "Python 2",
   "language": "python",
   "name": "python2"
  },
  "language_info": {
   "codemirror_mode": {
    "name": "ipython",
    "version": 2
   },
   "file_extension": ".py",
   "mimetype": "text/x-python",
   "name": "python",
   "nbconvert_exporter": "python",
   "pygments_lexer": "ipython2",
   "version": "2.7.6"
  }
 },
 "nbformat": 4,
 "nbformat_minor": 2
}
