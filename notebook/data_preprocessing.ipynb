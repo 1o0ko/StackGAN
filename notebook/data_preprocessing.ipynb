{
 "cells": [
  {
   "cell_type": "code",
   "execution_count": 1,
   "metadata": {},
   "outputs": [],
   "source": [
    "%matplotlib inline"
   ]
  },
  {
   "cell_type": "code",
   "execution_count": null,
   "metadata": {},
   "outputs": [],
   "source": [
    "import numpy as np\n",
    "from fuel.datasets.hdf5 import H5PYDataset\n",
    "import matplotlib.pyplot as plt\n",
    "import matplotlib.image as mpimg\n",
    "\n",
    "BATH_SIZE = 100\n",
    "IMG_SIZE = 256\n",
    "\n",
    "# Img resizing stuff\n",
    "LR_HR_RATIO = 4\n",
    "BIG_SIZE = int(IMG_SIZE * 76 / 64)\n",
    "SMALL_SIZE = int(BIG_SIZE / LR_HR_RATIO)\n",
    "\n",
    "DATA_TEMPLATE = '/data/fashion/extract_sample_3_%i_%i.h5'\n",
    "kkLANGUAGE_MODEL_VOCABULARY = '/data/models/glove.6B.vocab'\n",
    "\n",
    "FASTTEXT_DATA = '/data/fashion/txt/fashion.dedup.txt'\n",
    "FASTTEXT_DATA_TRAIN = '/data/fashion/txt/fashion-train.txt'\n",
    "FASTTEXT_DATA_CLEAN = '/data/fashion/txt/fashion-clean.txt'"
   ]
  }
 ],
 "metadata": {
  "kernelspec": {
   "display_name": "Python 2",
   "language": "python",
   "name": "python2"
  },
  "language_info": {
   "codemirror_mode": {
    "name": "ipython",
    "version": 2
   },
   "file_extension": ".py",
   "mimetype": "text/x-python",
   "name": "python",
   "nbconvert_exporter": "python",
   "pygments_lexer": "ipython2",
   "version": "2.7.6"
  }
 },
 "nbformat": 4,
 "nbformat_minor": 2
}
